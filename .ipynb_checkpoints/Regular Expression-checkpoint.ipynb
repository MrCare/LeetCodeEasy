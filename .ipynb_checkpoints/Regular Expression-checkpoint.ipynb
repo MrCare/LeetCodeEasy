{
 "cells": [
  {
   "cell_type": "markdown",
   "metadata": {},
   "source": [
    "# Python 正则表达式\n",
    "\n",
    "## [官方文档](https://docs.python.org/3/library/re.html#module-re)\n",
    "\n",
    "* 准备文本：zen of python"
   ]
  },
  {
   "cell_type": "code",
   "execution_count": 5,
   "metadata": {},
   "outputs": [],
   "source": [
    "import this\n",
    "import re\n",
    "\n",
    "text = '''\n",
    "The Zen of Python, by Tim Peters\n",
    "\n",
    "Beautiful is better than ugly.\n",
    "Explicit is better than implicit.\n",
    "Simple is better than complex.\n",
    "Complex is better than complicated.\n",
    "Flat is better than nested.\n",
    "Sparse is better than dense.\n",
    "Readability counts.\n",
    "Special cases aren't special enough to break the rules.\n",
    "Although practicality beats purity.\n",
    "Errors should never pass silently.\n",
    "Unless explicitly silenced.\n",
    "In the face of ambiguity, refuse the temptation to guess.\n",
    "There should be one-- and preferably only one --obvious way to do it.\n",
    "Although that way may not be obvious at first unless you're Dutch.\n",
    "Now is better than never.\n",
    "Although never is often better than *right* now.\n",
    "If the implementation is hard to explain, it's a bad idea.\n",
    "If the implementation is easy to explain, it may be a good idea.\n",
    "Namespaces are one honking great idea -- let's do more of those!\n",
    "'''"
   ]
  },
  {
   "cell_type": "markdown",
   "metadata": {},
   "source": [
    "## 模糊匹配\n",
    "\n",
    "`.` 表示任意一个除了\"\\t与\\n\"的字符\n",
    "\n",
    "- eg:\n",
    "\n",
    "    - 所有以i字母开头，长度为2的字符串"
   ]
  },
  {
   "cell_type": "code",
   "execution_count": 25,
   "metadata": {},
   "outputs": [
    {
     "name": "stdout",
     "output_type": "stream",
     "text": [
      "im if is ic it is im ic it im is is ic is is il it ia ia ic it it il ic it il ig it io io it io ir is is ig im io is in it id im io is in it id in id\n"
     ]
    }
   ],
   "source": [
    "r = re.findall('i.',text)\n",
    "print(*r)  #星号解包"
   ]
  },
  {
   "cell_type": "markdown",
   "metadata": {},
   "source": [
    "`[a,b,c]` 匹配\\[  \\]内的任意一个字符\n",
    "\n",
    "- `[0 -9]` 表示数字\n",
    "\n",
    "- `[a-z]` 表示字母\n",
    "\n",
    "- eg：\n",
    "\n",
    "    - 所有的is，if，和it 包括大写"
   ]
  },
  {
   "cell_type": "code",
   "execution_count": 38,
   "metadata": {},
   "outputs": [
    {
     "name": "stdout",
     "output_type": "stream",
     "text": [
      "if is it is it is is is is it it it it it it is is If is it If is it\n"
     ]
    }
   ],
   "source": [
    "r = re.findall('i[s,f,t]',text,re.I)\n",
    "print(*r)"
   ]
  },
  {
   "cell_type": "markdown",
   "metadata": {},
   "source": [
    "`*` 匹配任意多个字符\n",
    "\n",
    "- eg：\n",
    "\n",
    "    - 包含任意多个is的字符串： (is)*"
   ]
  },
  {
   "cell_type": "code",
   "execution_count": 37,
   "metadata": {},
   "outputs": [
    {
     "name": "stdout",
     "output_type": "stream",
     "text": [
      "                                             is                             is                               is                               is                                is                             is                                                                                                                                                                                                                                                                                                                                                                                                           is                                    is                                                       is                                                          is                                                                                                           \n"
     ]
    }
   ],
   "source": [
    "r = re.findall('(is)*',text)\n",
    "print(*r)"
   ]
  },
  {
   "cell_type": "markdown",
   "metadata": {},
   "source": [
    "`+` 匹配一个以上的字符\n",
    "\n",
    "- eg：\n",
    "\n",
    "    - 包含至少一个is的字符串：（is）+"
   ]
  },
  {
   "cell_type": "code",
   "execution_count": 21,
   "metadata": {},
   "outputs": [
    {
     "name": "stdout",
     "output_type": "stream",
     "text": [
      "is is is is is is is is is is\n"
     ]
    }
   ],
   "source": [
    "r = re.findall('(is)+',text)\n",
    "print(*r)"
   ]
  },
  {
   "cell_type": "markdown",
   "metadata": {},
   "source": [
    "## 精确匹配\n",
    "\n",
    "直接 `'匹配内容'` 即可\n",
    "\n",
    "- eg:\n",
    "\n",
    "    - 匹配 'perfect'"
   ]
  },
  {
   "cell_type": "code",
   "execution_count": 32,
   "metadata": {},
   "outputs": [
    {
     "name": "stdout",
     "output_type": "stream",
     "text": [
      "\n"
     ]
    }
   ],
   "source": [
    "r = re.findall('perfect',text)\n",
    "print(*r)"
   ]
  },
  {
   "cell_type": "markdown",
   "metadata": {},
   "source": [
    "## 常用 RE 规则\n",
    "\n",
    "| 模式 | 描述 |\n",
    "| ---- | ---- |\n",
    "| `\\d` | [0-9] |\n",
    "| `\\D` | [^-9] |\n",
    "| `\\w` | [a-zA-Z0-9_] |\n",
    "| `\\W` | [^a-zA-Z0-9_] |\n",
    "| `\\s` | [\\t\\n\\r\\f] |\n",
    "| `\\S` | [^\\t\\n\\r\\f] |\n",
    "| `^` | 以字串开头 |\n",
    "| `$` | 以字串结尾 |\n",
    "| `.` | 任意一个除了\"\\t与\\n\"的字符 |\n",
    "| `[...]` | 匹配[ ]内的任意一个字符 |\n",
    "| `[^...]` | 匹配不在[ ]内的任意一个字符 |\n",
    "| `*` | 匹配任意多个前面表达式 |\n",
    "| `+` | 匹配至少一个前面表达式 |\n",
    "| `?` | 匹配0或1个前面表达式，也可以用来表示非贪婪方式 |\n",
    "| `{n}` | 精确匹配 n 个前面表达式 |\n",
    "| `{n, m}` | 匹配 n 到 m 次由前面的正则表达式定义的片段，贪婪方式 |\n",
    "| `a | b` | 匹配 a 或 b |\n",
    "| `( )` | 匹配括号内的表达式，也表示一个组 |"
   ]
  },
  {
   "cell_type": "markdown",
   "metadata": {},
   "source": [
    "## RE库常用函数\n",
    "\n",
    "| 库里常用函数 | 描述 |\n",
    "| ---- | ---- |\n",
    "| `re.match(pattern, string, flags=0)` | 尝试从字符串的起始位置匹配一个模式，如果不是起始位置匹配成功的话，match()就返回none |\n",
    "| `re.search(pattern, string, flags=0)` | 扫描整个字符串并返回第一个成功的匹配 |\n",
    "| `re.sub(pattern, repl, string, count=0)` | 用于替换字符串中的匹配项，repl : 替换的字符串，也可为一个函数 |\n",
    "| `re.compile(pattern[, flags])` | 用于编译正则表达式，生成一个正则表达式（ Pattern ）对象，供 match() 和 search() 这两个函数使用 |\n",
    "| `findall(string[, pos[, endpos]])` | 在字符串中找到正则表达式所匹配的所有子串，并返回一个列表，如果没有找到匹配的，则返回空列表 |\n",
    "| `re.split(pattern, string[, maxsplit=0, flags=0])` |  能够匹配的子串将字符串分割后返回列表 |"
   ]
  },
  {
   "cell_type": "markdown",
   "metadata": {},
   "source": [
    "## flags 修饰符\n",
    "\n",
    "| 修饰符 flags | 描述 |\n",
    "| ---- | ---- |\n",
    "| `re.I` | 使匹配对大小写不敏感 |\n",
    "| `re.L` | 做本地化识别（locale-aware）匹配 |\n",
    "| `re.M` | 多行匹配，影响 ^ 和 $ |\n",
    "| `re.S` | 使 `.` 匹配包括换行在内的所有字符 |\n",
    "| `re.U` | 根据Unicode字符集解析字符。这个标志影响 \\w, \\W, \\b, \\B. |\n",
    "| `re.X` | 该标志通过给予你更灵活的格式以便你将正则表达式写得更易于理解。 |\n",
    "\n",
    "- 最后这几个用的不多，日后用到详细钻研后再补充"
   ]
  }
 ],
 "metadata": {
  "kernelspec": {
   "display_name": "Python 3",
   "language": "python",
   "name": "python3"
  },
  "language_info": {
   "codemirror_mode": {
    "name": "ipython",
    "version": 3
   },
   "file_extension": ".py",
   "mimetype": "text/x-python",
   "name": "python",
   "nbconvert_exporter": "python",
   "pygments_lexer": "ipython3",
   "version": "3.7.3"
  }
 },
 "nbformat": 4,
 "nbformat_minor": 2
}
