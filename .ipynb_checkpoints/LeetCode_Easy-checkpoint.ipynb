{
 "cells": [
  {
   "cell_type": "markdown",
   "metadata": {},
   "source": [
    "# LeetCode\n",
    "# NO.1 Two Sum\n",
    "内存占用小然而执行时间很慢"
   ]
  },
  {
   "cell_type": "code",
   "execution_count": 6,
   "metadata": {},
   "outputs": [
    {
     "name": "stdout",
     "output_type": "stream",
     "text": [
      "Wall time: 0 ns\n"
     ]
    },
    {
     "data": {
      "text/plain": [
       "[1, 2]"
      ]
     },
     "execution_count": 6,
     "metadata": {},
     "output_type": "execute_result"
    }
   ],
   "source": [
    "class Solution:\n",
    "    def twoSum(self, nums, target):\n",
    "        for i,k in enumerate(nums[:-1]):\n",
    "            for j,w in enumerate(nums[i+1:]):\n",
    "                if k + w == target:\n",
    "                    return [i,i+1+j]\n",
    "                else:\n",
    "                    pass\n",
    "a = Solution()\n",
    "%time a.twoSum([3,2,4],6)"
   ]
  },
  {
   "cell_type": "markdown",
   "metadata": {},
   "source": [
    "# NO.7 Reverse Integer\n",
    "列表反向取数的时候[3:0:-1]相当于从后往前不包含0，包含3，也可以两步切片，会快一点。"
   ]
  },
  {
   "cell_type": "code",
   "execution_count": 27,
   "metadata": {},
   "outputs": [
    {
     "name": "stdout",
     "output_type": "stream",
     "text": [
      "321\n",
      "Wall time: 0 ns\n"
     ]
    },
    {
     "data": {
      "text/plain": [
       "-321"
      ]
     },
     "execution_count": 27,
     "metadata": {},
     "output_type": "execute_result"
    }
   ],
   "source": [
    "class Solution:\n",
    "    def reverse(self, x: int) -> int:\n",
    "        tem = str(x)\n",
    "        if tem[0] != '-':\n",
    "            tem_f = tem[::-1]\n",
    "            return (int(tem_f) if int(tem_f) < (2**31-1) else 0)\n",
    "        else:\n",
    "            tem_f = tem[:0:-1]\n",
    "            print(tem_f)\n",
    "            return (-int(tem_f) if int(tem_f) < (2**31+1) else 0)\n",
    "a = Solution()\n",
    "%time a.reverse(-123)"
   ]
  },
  {
   "cell_type": "markdown",
   "metadata": {},
   "source": [
    "# NO.9 Palindrome Number"
   ]
  },
  {
   "cell_type": "code",
   "execution_count": 3,
   "metadata": {},
   "outputs": [
    {
     "name": "stdout",
     "output_type": "stream",
     "text": [
      "Wall time: 0 ns\n"
     ]
    },
    {
     "data": {
      "text/plain": [
       "False"
      ]
     },
     "execution_count": 3,
     "metadata": {},
     "output_type": "execute_result"
    }
   ],
   "source": [
    "class Solution:\n",
    "    def isPalindrome(self, x: int) -> bool:\n",
    "        x = str(x)\n",
    "        y = x[::-1]\n",
    "        if x ==y:\n",
    "            return True\n",
    "        else:\n",
    "            return False\n",
    "a = Solution()\n",
    "%time a.isPalindrome(-121)"
   ]
  },
  {
   "cell_type": "markdown",
   "metadata": {},
   "source": [
    "# NO.13 Rome to Integer\n",
    "罗马数字的计算规则：\n",
    "* 总体来说是将每一位出现的数字用加或减的方式组合起来，如果某一个数字比它后一个数字大或者与后一个数字相等，那么最终的结果就应当加上它\n",
    "* 否则就减去它。\n",
    "* 值得注意的是，因为最后一个数字没有后面的数字，所以最后一个数字总是需要加上的。"
   ]
  },
  {
   "cell_type": "code",
   "execution_count": 7,
   "metadata": {},
   "outputs": [
    {
     "name": "stdout",
     "output_type": "stream",
     "text": [
      "Wall time: 0 ns\n"
     ]
    },
    {
     "data": {
      "text/plain": [
       "1994"
      ]
     },
     "execution_count": 7,
     "metadata": {},
     "output_type": "execute_result"
    }
   ],
   "source": [
    "class Solution:\n",
    "    def romanToInt(self, s: str) -> int:\n",
    "        s_0 = \"IVXLCDM\"\n",
    "        s_1 = [1,5,10,50,100,500,1000]\n",
    "        s_d = dict(zip(s_0,s_1))\n",
    "        sum = 0\n",
    "        for i in range(len(s)-1):\n",
    "            if s_d[s[i]] >= s_d[s[i+1]]:\n",
    "                sum += s_d[s[i]]\n",
    "            else:\n",
    "                sum -= s_d[s[i]]\n",
    "        sum += s_d[s[-1]]\n",
    "        return sum\n",
    "a = Solution()\n",
    "%time a.romanToInt('MCMXCIV')  "
   ]
  },
  {
   "cell_type": "code",
   "execution_count": null,
   "metadata": {},
   "outputs": [],
   "source": []
  }
 ],
 "metadata": {
  "kernelspec": {
   "display_name": "Python 3",
   "language": "python",
   "name": "python3"
  },
  "language_info": {
   "codemirror_mode": {
    "name": "ipython",
    "version": 3
   },
   "file_extension": ".py",
   "mimetype": "text/x-python",
   "name": "python",
   "nbconvert_exporter": "python",
   "pygments_lexer": "ipython3",
   "version": "3.7.3"
  }
 },
 "nbformat": 4,
 "nbformat_minor": 2
}
