{
 "cells": [
  {
   "cell_type": "markdown",
   "metadata": {},
   "source": [
    "# LeetCode Easy\n",
    "\n",
    "## NO.1 Two Sum\n",
    "\n",
    "题目：\n",
    "\n",
    "* Given an array of integers, return indices of the two numbers such that they add up to a specific target.You may assume that each input would have exactly one solution, and you may not use the same element twice.\n",
    "\n",
    "题解：\n",
    "\n",
    "* 第一种解法：暴力递进双循环\n",
    "\n",
    "* 时间复杂度为$O(n^2)$，空间复杂度为$O(1)$"
   ]
  },
  {
   "cell_type": "code",
   "execution_count": 1,
   "metadata": {},
   "outputs": [
    {
     "name": "stdout",
     "output_type": "stream",
     "text": [
      "Wall time: 0 ns\n"
     ]
    },
    {
     "data": {
      "text/plain": [
       "[1, 2]"
      ]
     },
     "execution_count": 1,
     "metadata": {},
     "output_type": "execute_result"
    }
   ],
   "source": [
    "class Solution:\n",
    "    def twoSum(self, nums, target):\n",
    "        for i,k in enumerate(nums[:-1]):\n",
    "            for j,w in enumerate(nums[i+1:]):\n",
    "                if k + w == target:\n",
    "                    return [i,i+1+j]\n",
    "                else:\n",
    "                    pass\n",
    "a = Solution()\n",
    "%time a.twoSum([3,2,4],6)"
   ]
  },
  {
   "cell_type": "markdown",
   "metadata": {},
   "source": [
    "* 第二种解法：哈希表快速查找,将列表元素作为键，将列表的索引作为值建立哈希表\n",
    "\n",
    "* 时间复杂度与空间复杂度均为$O(n)$\n",
    "\n",
    "* Python 中 dict.get(key, default=None)，返回键的值，如键不存在则返回 None"
   ]
  },
  {
   "cell_type": "code",
   "execution_count": 22,
   "metadata": {},
   "outputs": [],
   "source": [
    "    def tow_sum_with_dict(nums, target: int):\n",
    "        d = {}\n",
    "        for i, k in enumerate(nums):\n",
    "            d[k] = i\n",
    "\n",
    "        for i, k in enumerate(nums):\n",
    "            j = d.get(target - k)\n",
    "            if j is not None and i != j:\n",
    "                return [i, j]"
   ]
  },
  {
   "cell_type": "markdown",
   "metadata": {},
   "source": [
    "* 第三种解法：一次循环完成构建哈希表并返回结果\n",
    "    \n",
    "    * 两个数是成对出现的，相当于先在字典中添加一个数，在后面遍历到这个数的对的时候，就会把它在字典中找出来 "
   ]
  },
  {
   "cell_type": "code",
   "execution_count": 24,
   "metadata": {},
   "outputs": [],
   "source": [
    "    def tow_sum_with_dict(nums, target: int):\n",
    "        d = {}\n",
    "        for i, k in enumerate(nums):\n",
    "            if d.get(target - k):\n",
    "                return [i, d.get(target - k)]\n",
    "            d[k] = i #这很有意思，竟然可以不用else"
   ]
  },
  {
   "cell_type": "markdown",
   "metadata": {},
   "source": [
    "## NO.7 Reverse Integer\n",
    "\n",
    "题目：\n",
    "\n",
    "* Given a 32-bit signed integer, reverse digits of an integer.\n",
    "\n",
    "* Assume we are dealing with an environment which could only store integers within the 32-bit signed integer range: ($−2^{31}$, $2^{31} − 1$). For the purpose of this problem, assume that your function returns 0 when the reversed integer overflows.\n",
    "\n",
    "题解：\n",
    "\n",
    "* 列表反向取数的时候[3:0:-1]相当于从后往前不包含0，包含3，也可以两步切片，会快一点。"
   ]
  },
  {
   "cell_type": "code",
   "execution_count": 2,
   "metadata": {},
   "outputs": [
    {
     "name": "stdout",
     "output_type": "stream",
     "text": [
      "321\n",
      "Wall time: 0 ns\n"
     ]
    },
    {
     "data": {
      "text/plain": [
       "-321"
      ]
     },
     "execution_count": 2,
     "metadata": {},
     "output_type": "execute_result"
    }
   ],
   "source": [
    "class Solution:\n",
    "    def reverse(self, x: int) -> int:\n",
    "        tem = str(x)\n",
    "        if tem[0] != '-':\n",
    "            tem_f = tem[::-1]\n",
    "            return (int(tem_f) if int(tem_f) < (2**31-1) else 0)\n",
    "        else:\n",
    "            tem_f = tem[:0:-1]\n",
    "            print(tem_f)\n",
    "            return (-int(tem_f) if int(tem_f) < (2**31+1) else 0)\n",
    "a = Solution()\n",
    "%time a.reverse(-123)"
   ]
  },
  {
   "cell_type": "markdown",
   "metadata": {},
   "source": [
    "## NO.9 Palindrome Number\n",
    "\n",
    "题目：\n",
    "\n",
    "* Determine whether an integer is a palindrome. An integer is a palindrome when it reads the same backward as forwad.\n",
    "\n",
    "题解：\n",
    "\n",
    "* 将字符串从后向前索引 看是否与原字符串相同，注意：字符串不可变"
   ]
  },
  {
   "cell_type": "code",
   "execution_count": 12,
   "metadata": {},
   "outputs": [
    {
     "name": "stdout",
     "output_type": "stream",
     "text": [
      "Wall time: 0 ns\n"
     ]
    },
    {
     "data": {
      "text/plain": [
       "False"
      ]
     },
     "execution_count": 12,
     "metadata": {},
     "output_type": "execute_result"
    }
   ],
   "source": [
    "class Solution:\n",
    "    def isPalindrome(self, x: int) -> bool:\n",
    "        x = str(x)\n",
    "        y = x[::-1]\n",
    "        if x == y:\n",
    "            return True\n",
    "        else:\n",
    "            return False\n",
    "a = Solution()\n",
    "%time a.isPalindrome(-121)"
   ]
  },
  {
   "cell_type": "markdown",
   "metadata": {},
   "source": [
    "## NO.13 Rome to Integer\n",
    "\n",
    "题目：\n",
    "\n",
    "* 将罗马数字转为正数\n",
    "\n",
    "罗马数字的计算规则：\n",
    "\n",
    "* 总体来说是将每一位出现的数字用加或减的方式组合起来，如果某一个数字比它后一个数字大或者与后一个数字相等，那么最终的结果就应当加上它\n",
    "\n",
    "* 否则就减去它。\n",
    "\n",
    "* 值得注意的是，因为最后一个数字没有后面的数字，所以最后一个数字总是需要加上的。"
   ]
  },
  {
   "cell_type": "code",
   "execution_count": 7,
   "metadata": {},
   "outputs": [
    {
     "name": "stdout",
     "output_type": "stream",
     "text": [
      "Wall time: 0 ns\n"
     ]
    },
    {
     "data": {
      "text/plain": [
       "1994"
      ]
     },
     "execution_count": 7,
     "metadata": {},
     "output_type": "execute_result"
    }
   ],
   "source": [
    "class Solution:\n",
    "    def romanToInt(self, s: str) -> int:\n",
    "        s_0 = \"IVXLCDM\"\n",
    "        s_1 = [1,5,10,50,100,500,1000]\n",
    "        s_d = dict(zip(s_0,s_1))\n",
    "        sum = 0\n",
    "        for i in range(len(s)-1):\n",
    "            if s_d[s[i]] >= s_d[s[i+1]]:\n",
    "                sum += s_d[s[i]]\n",
    "            else:\n",
    "                sum -= s_d[s[i]]\n",
    "        sum += s_d[s[-1]]\n",
    "        return sum\n",
    "a = Solution()\n",
    "%time a.romanToInt('MCMXCIV')  "
   ]
  },
  {
   "cell_type": "markdown",
   "metadata": {},
   "source": [
    "## NO.14 Longest Common Prefix\n",
    "\n",
    "题目：\n",
    "\n",
    "* Write a function to find the longest common prefix(前缀) string amongst an array of strings.\n",
    "\n",
    "* If there is no common prefix, return an empty string \n",
    "\n",
    "\n",
    "非常巧妙的思路，是利用zip将所有可迭代对象做一个类似于转置操作的重组，利用到zip()函数如下几点性质：\n",
    "\n",
    "* zip(可迭代对象) 返回的列表长度由其中最短的输入对象决定\n",
    "\n",
    "* zip()返回的是一个由元组构成的列表\n",
    "\n",
    "* \\*list 相当于将list内的元素解压出来，在此例中list的元素恰好是str也是可迭代对象\n",
    "\n",
    "* set()集合化函数，会自动将重复的元素合并为集合的“键”\n",
    "\n",
    "* 返回zip object 需手动list()"
   ]
  },
  {
   "cell_type": "code",
   "execution_count": 30,
   "metadata": {},
   "outputs": [
    {
     "name": "stdout",
     "output_type": "stream",
     "text": [
      "Wall time: 0 ns\n",
      "[('f', 'f', 'f'), ('l', 'l', 'l'), ('o', 'o', 'a'), ('w', 'a', 'm'), ('e', 't', 'e')]\n"
     ]
    }
   ],
   "source": [
    "class Solution:\n",
    "    def longestCommonPrefix(self, strs) -> str:\n",
    "        r = ''\n",
    "        for each in zip(*strs):\n",
    "            if len(set(each)) == 1:\n",
    "                r += each[0]\n",
    "            else:\n",
    "                break\n",
    "        return r\n",
    "a = Solution()\n",
    "strs = [\"flower\",\"float\",\"flame\"]\n",
    "%time a.longestCommonPrefix(strs)\n",
    "print(list(zip(*strs)))"
   ]
  },
  {
   "cell_type": "markdown",
   "metadata": {},
   "source": [
    "## NO.20 Valid Parentheses\n",
    "\n",
    "题目：\n",
    "\n",
    "* 判断括号是否合理，仅仅关注单个括号的数量和是否格式正确两个方面，不考虑顺序（小括号必须在最里面，大括号必须在最外面，这样的要求是不考虑的）\n",
    "\n",
    "这里遇到了栈$stack$的应用,简单来说就是用list.append()和list.pop()完成数据后进后出的操作\n",
    "\n",
    "* list.pop()会在list中去掉最后一个值，并返回此值\n",
    "\n",
    "* 这里要考虑三种输入情况：\n",
    "    \n",
    "    1. 空值  \n",
    "    \n",
    "    2. 正确的输入  \n",
    "    \n",
    "    3. 没有左括号的错误输入  \n",
    "    \n",
    "    4. 有左括号的错误输入  \n",
    "\n",
    "* 注意 [] 不是 None"
   ]
  },
  {
   "cell_type": "code",
   "execution_count": 3,
   "metadata": {},
   "outputs": [
    {
     "data": {
      "text/plain": [
       "False"
      ]
     },
     "execution_count": 3,
     "metadata": {},
     "output_type": "execute_result"
    }
   ],
   "source": [
    "class Solution:\n",
    "    def isValid(self, s: str) -> bool:\n",
    "        if len(s) % 2 == 1:\n",
    "            return False\n",
    "        d = {'{':'}','[':']','(':')'}\n",
    "        l = []\n",
    "        for each in s:\n",
    "            if each in d:\n",
    "                l.append(each)\n",
    "            else:\n",
    "                if not l or d[l.pop()] != each:\n",
    "                    return False\n",
    "        return l==[]\n",
    "a = Solution()\n",
    "a.isValid(')[{}]')"
   ]
  },
  {
   "cell_type": "markdown",
   "metadata": {},
   "source": [
    "**在python中如果有空列表循环的情况发生，相当于pass，程序会越过这个循环继续执行：如下，没有 out**"
   ]
  },
  {
   "cell_type": "code",
   "execution_count": 110,
   "metadata": {},
   "outputs": [],
   "source": [
    "l = []\n",
    "for x in l:\n",
    "    print()"
   ]
  },
  {
   "cell_type": "markdown",
   "metadata": {},
   "source": [
    "## NO.21 Merge Two Sorted Lists\n",
    "\n",
    "题目：\n",
    "\n",
    "* Merge two sorted linked lists and return it as a new list. The new list should be made by splicing together the nodes of the first two lists. \n",
    "\n",
    "**多行注释：ctrl+/**  \n",
    "\n",
    "这道题粘贴了官方题解，不太了解Python的链表结构，缺少了这一环，我猜测如果以1->2->4为例应当是这样的一个方式:  \n",
    "\n",
    "* l1 = ListNode(1,ListNode(2,ListNode(4,None).val).val)  \n",
    "\n",
    "但是不清楚内部定义ListNode的代码到底是怎么写的，这题先放这里，钻研明白后再补全"
   ]
  },
  {
   "cell_type": "code",
   "execution_count": 119,
   "metadata": {},
   "outputs": [],
   "source": [
    "# Definition for singly-linked list.\n",
    "# class ListNode:\n",
    "#     def __init__(self, x):\n",
    "#         self.val = x\n",
    "#         self.next = None\n",
    "\n",
    "class Solution:\n",
    "    def mergeTwoLists(self, l1, l2):\n",
    "        # maintain an unchanging reference to node ahead of the return node.\n",
    "        prehead = ListNode(-1)\n",
    "        prev = prehead\n",
    "        while l1 and l2:\n",
    "            if l1.val <= l2.val:\n",
    "                prev.next = l1\n",
    "                l1 = l1.next\n",
    "            else:\n",
    "                prev.next = l2\n",
    "                l2 = l2.next            \n",
    "            prev = prev.next\n",
    "\n",
    "        # exactly one of l1 and l2 can be non-null at this point, so connect\n",
    "        # the non-null list to the end of the merged list.\n",
    "        prev.next = l1 if l1 is not None else l2\n",
    "\n",
    "        return prehead.next\n",
    "# a = Solution()\n",
    "# a.mergeTwoLists([1,2,4],[2,3,4])"
   ]
  },
  {
   "cell_type": "markdown",
   "metadata": {},
   "source": [
    "## NO.26 Remove  Duplicates from Sorted Arry\n",
    "\n",
    "题目：\n",
    "\n",
    "* Given a sorted array nums, remove the duplicates in-place such that each element appear only once and return the new length.\n",
    "\n",
    "* Do not allocate extra space for another array, you must do this by modifying the input array in-place with $O(1)$ extra memory.\n",
    "\n",
    "题解：\n",
    "\n",
    "* 删除列表元素的三种方式：\n",
    "\n",
    "    1. list.remove(元素)  \n",
    "    \n",
    "    2. list.pop(索引)\n",
    "    \n",
    "    3. del list[索引]  \n",
    "\n",
    "* 如果采用遍历列表删除的思路需要注意，当删除元素之后，列表后位元素会前移，而循环次数则不会变，最后造成下标越界的错误  \n",
    "\n",
    "* 正确的遍历列表并删除元素的几种方式：  \n",
    "    \n",
    "    1. filter()函数 过滤（会占用额外内存）  \n",
    "    \n",
    "    2. 逆序遍历 * 推荐  \n",
    "    \n",
    "    3. set()是去重复最快的方式，但不适用于其他条件    \n",
    "\n",
    "虽然下面这段代码很酷，然而还是理解错了题意，题目要求修改原序列并返回一个长度值，而不是返回新序列  "
   ]
  },
  {
   "cell_type": "code",
   "execution_count": 127,
   "metadata": {},
   "outputs": [
    {
     "name": "stdout",
     "output_type": "stream",
     "text": [
      "Wall time: 0 ns\n"
     ]
    },
    {
     "data": {
      "text/plain": [
       "[1, 2, 3, 4, 5]"
      ]
     },
     "execution_count": 127,
     "metadata": {},
     "output_type": "execute_result"
    }
   ],
   "source": [
    "class Solution:\n",
    "    def removeDuplicates(self, nums) -> int:\n",
    "        for i in range(len(nums)-1,0,-1):\n",
    "            if nums[i] == nums[i - 1]:\n",
    "                nums.pop(i)\n",
    "        return nums\n",
    "a = Solution()\n",
    "%time a.removeDuplicates([1,1,2,3,4,4,5])"
   ]
  },
  {
   "cell_type": "markdown",
   "metadata": {},
   "source": [
    "正确的题解是这样的："
   ]
  },
  {
   "cell_type": "code",
   "execution_count": 139,
   "metadata": {},
   "outputs": [
    {
     "name": "stdout",
     "output_type": "stream",
     "text": [
      "Wall time: 0 ns\n"
     ]
    },
    {
     "data": {
      "text/plain": [
       "2"
      ]
     },
     "execution_count": 139,
     "metadata": {},
     "output_type": "execute_result"
    }
   ],
   "source": [
    "class Solution:\n",
    "    def removeDuplicates(self, nums) -> int:\n",
    "        if not nums: # 如果列表为空\n",
    "            return 0\n",
    "        t = 1\n",
    "        for i,x in enumerate(nums[:-1]):\n",
    "            if x != nums[i + 1]:\n",
    "                nums[t] = nums[i + 1]\n",
    "                t += 1 \n",
    "        return t\n",
    "a = Solution()\n",
    "%time a.removeDuplicates([1,1,2])"
   ]
  },
  {
   "cell_type": "markdown",
   "metadata": {},
   "source": [
    "## NO.27 Remove Element\n",
    "\n",
    "题目：\n",
    "\n",
    "* Given an array nums and a value val, remove all instances of that value in-place and return the new length.\n",
    "\n",
    "* Do not allocate extra space for another array, you must do this by modifying the input array in-place with O(1) extra memory.\n",
    "\n",
    "* The order of elements can be changed. It doesn't matter what you leave beyond the new length.\n",
    "\n",
    "题解：\n",
    "\n",
    "* 这个与26很相似，一开始也采用了26的思路，但是用list.remove方法会更好\n",
    "\n",
    "* list.remove(x) :在list中去除一个x 这是不占用另外空间的做法"
   ]
  },
  {
   "cell_type": "code",
   "execution_count": 160,
   "metadata": {},
   "outputs": [
    {
     "name": "stdout",
     "output_type": "stream",
     "text": [
      "[]\n",
      "Wall time: 0 ns\n"
     ]
    },
    {
     "data": {
      "text/plain": [
       "0"
      ]
     },
     "execution_count": 160,
     "metadata": {},
     "output_type": "execute_result"
    }
   ],
   "source": [
    "class Solution:\n",
    "    def removeElement(self, nums, val: int) -> int:\n",
    "        l = len(nums)\n",
    "        for i in range(l-1,-1,-1):\n",
    "            if nums[i] == val:\n",
    "                nums.remove(val)\n",
    "        print(nums)\n",
    "        return len(nums)\n",
    "a = Solution()\n",
    "%time a.removeElement([1],1)"
   ]
  },
  {
   "cell_type": "markdown",
   "metadata": {},
   "source": [
    "## NO.28 Implement strStr()  \n",
    "\n",
    "题目：\n",
    "\n",
    "* Return the index of the first occurrence of needle in haystack, or -1 if needle is not part of haystack.\n",
    "\n",
    "题解：\n",
    "\n",
    "* list[0:0] 为 []  \n",
    "\n",
    "* strStr(l1,l2)是 C 语言中的函数，在l1中查找l2返回值有三种情况：  \n",
    "    \n",
    "    1. l2在l1中存在，返回l2出现的位置\n",
    "    \n",
    "    2. l2在l1中不存在，返回-1\n",
    "    \n",
    "    3. l2为空\"\",则返回 0，据说是比较常见的面试题  \n",
    "\n",
    "* python 的内置函数为:\n",
    "   \n",
    "    * str.find(str2,begin,end = len(str))用begin与end可以定义查找范围"
   ]
  },
  {
   "cell_type": "code",
   "execution_count": 162,
   "metadata": {},
   "outputs": [
    {
     "name": "stdout",
     "output_type": "stream",
     "text": [
      "Wall time: 0 ns\n"
     ]
    },
    {
     "data": {
      "text/plain": [
       "2"
      ]
     },
     "execution_count": 162,
     "metadata": {},
     "output_type": "execute_result"
    }
   ],
   "source": [
    "class Solution:\n",
    "    def strStr(self, haystack: str, needle: str) -> int:\n",
    "        l1 = len(haystack)\n",
    "        l2 = len(needle)\n",
    "        t = 0\n",
    "        for i in range(l1 - l2 + 1):\n",
    "            if haystack[i:i + l2] == needle:\n",
    "                t += 1\n",
    "                return i\n",
    "        if t == 0:\n",
    "            return -1\n",
    "a = Solution()\n",
    "%time a.strStr(\"hello\",\"ll\")"
   ]
  },
  {
   "cell_type": "markdown",
   "metadata": {},
   "source": [
    "## NO.35 Search Insert Position\n",
    "\n",
    "题目：\n",
    " \n",
    "* Given a sorted array and a target value, return the index if the target is found. If not, return the index where it would be if it were inserted in order.\n",
    "\n",
    "* You may assume no duplicates in the array.\n",
    "\n",
    "题解：\n",
    "\n",
    "* 永远要考虑边界情况，把list想象成在方格子（索引）里的数（元素）"
   ]
  },
  {
   "cell_type": "code",
   "execution_count": 166,
   "metadata": {},
   "outputs": [
    {
     "data": {
      "text/plain": [
       "4"
      ]
     },
     "execution_count": 166,
     "metadata": {},
     "output_type": "execute_result"
    }
   ],
   "source": [
    "class Solution:\n",
    "    def searchInsert(self, nums, target: int) -> int:\n",
    "        for i,each in enumerate(nums):\n",
    "            if target <= each:\n",
    "                return i\n",
    "        return len(nums)\n",
    "a = Solution()\n",
    "a.searchInsert([1,3,5,6],7)"
   ]
  },
  {
   "cell_type": "markdown",
   "metadata": {},
   "source": [
    "## NO.38 Count And Say\n",
    "\n",
    "题目：\n",
    "\n",
    "* The count-and-say sequence is the sequence of integers with the first five terms as following:\n",
    "\n",
    "| NO. | Nums |\n",
    "| :-: | :-: |\n",
    "| 1. | 1 |\n",
    "| 2. | 11 |\n",
    "| 3. | 21 |\n",
    "| 4. | 1211 |\n",
    "| 5. | 111221 |\n",
    "\n",
    "* 1 is read off as \"one 1\" or 11.\n",
    "\n",
    "* 11 is read off as \"two 1s\" or 21.\n",
    "\n",
    "* 21 is read off as \"one 2, then one 1\" or 1211.\n",
    "\n",
    "* Given an integer n where $1 \\leq n \\leq 30$, generate the nth term of the count-and-say sequence.\n",
    "\n",
    "* Note: Each term of the sequence of integers will be represented as a string.\n",
    "\n",
    "题解：\n",
    "\n",
    "* 按照规律用递推公式递归编写即可\n",
    "\n",
    "这道题最棒的一处就是No.7行处在待循环数组后加一个字符串s，就可以不用特殊地考虑队尾边界的情况了！"
   ]
  },
  {
   "cell_type": "code",
   "execution_count": 168,
   "metadata": {},
   "outputs": [
    {
     "name": "stdout",
     "output_type": "stream",
     "text": [
      "1\n",
      "11\n",
      "21\n",
      "1211\n",
      "111221\n"
     ]
    }
   ],
   "source": [
    "class Solution:\n",
    "    def countAndSay(self, n: int) -> str:\n",
    "        if n == 1:\n",
    "            return '1'\n",
    "        else:\n",
    "            r = ''\n",
    "            l = self.countAndSay(n - 1) + 's' \n",
    "            co =1\n",
    "            for i in range(len(l)-1):\n",
    "                if l[i] == l[i + 1]:\n",
    "                    co += 1\n",
    "                else:\n",
    "                    r += str(co) + l[i]\n",
    "                    co = 1\n",
    "            return r\n",
    "a = Solution()\n",
    "for i in range(1,6):\n",
    "    print(a.countAndSay(i))"
   ]
  },
  {
   "cell_type": "markdown",
   "metadata": {},
   "source": [
    "## NO.53 Maximum Subarray (DP)\n",
    "\n",
    "题目：\n",
    "\n",
    "* Given an integer array nums, find the contiguous subarray (containing at least one number) which has the largest sum and return its sum.\n",
    "\n",
    "题解：\n",
    "\n",
    "* 动态规划问题：\n",
    "    \n",
    "    * Subarray(子序列)指的是相连的序列，且这个序列包含在了原序列中\n",
    "    \n",
    "    * 最大和指的是若干个连续元素相加，所能得到的最大的那个数\n",
    "    \n",
    "    * dp相当于“以nums[i]结尾的子序列最大和”  \n",
    "    \n",
    "    * “以nums[i+1]结尾的子序列的最大和”是max(dp+nums[i], nums[i])\n",
    "    \n",
    "    * for循环一遍后，dp相当于“以nums尾部元素结尾的子序列的最大和”\n",
    "    \n",
    "    * 我们要求的结果就是所有的for循环得到的dp中最大的那个\n",
    "\n",
    "《数学之美》中提到的维特比算法用于求代价最小路径也是动态规划的思想，假设我们的人生也可以分为连续的几个阶段，幼儿，青年，中年，老年，濒死。假设前4个阶段都走了最优路径，那么最后濒死阶段的最优路径就是没有遗憾的离开这个世界，然后往回推，需要考虑的除了最后的已经明白的选择，还有就是当前阶段未确定的选择。感觉等于没说，好吧，强行哲理了一波哈哈哈~"
   ]
  },
  {
   "cell_type": "code",
   "execution_count": 2,
   "metadata": {},
   "outputs": [
    {
     "data": {
      "text/plain": [
       "6"
      ]
     },
     "execution_count": 2,
     "metadata": {},
     "output_type": "execute_result"
    }
   ],
   "source": [
    "class Solution:\n",
    "    def maxSubArray(self, nums) -> int:\n",
    "        dp = nums[0]\n",
    "        s = dp\n",
    "        for i,each in enumerate(nums[1:]):\n",
    "            if dp + each >= each:\n",
    "                dp = dp + each\n",
    "            \n",
    "            else:\n",
    "                dp = each\n",
    "            if dp > s:\n",
    "                s = dp\n",
    "        return s\n",
    "a = Solution()\n",
    "a.maxSubArray([-2,1,-3,4,-1,2,1,-5,4])"
   ]
  },
  {
   "cell_type": "markdown",
   "metadata": {},
   "source": [
    "## NO.58 Length of Last Word\n",
    "\n",
    "题目：\n",
    "\n",
    "* Given a string s consists of upper/lower-case alphabets and empty space characters ' ', return the length of last word in the string.\n",
    "\n",
    "* If the last word does not exist, return 0.\n",
    "\n",
    "* Note: A word is defined as a character sequence consists of non-space characters only.\n",
    "\n",
    "题解：反向循环找到最后一位非空元素  \n",
    "\n",
    "* range(len(s)-1,-1,-1)"
   ]
  },
  {
   "cell_type": "code",
   "execution_count": 13,
   "metadata": {},
   "outputs": [
    {
     "data": {
      "text/plain": [
       "5"
      ]
     },
     "execution_count": 13,
     "metadata": {},
     "output_type": "execute_result"
    }
   ],
   "source": [
    "class Solution:\n",
    "    def lengthOfLastWord(self, s: str) -> int:\n",
    "        s_1 = s.split(\" \")\n",
    "        for i in range(len(s_1)-1,-1,-1):\n",
    "            if s_1[i] != \"\":\n",
    "                return len(s_1[i])\n",
    "        return 0\n",
    "a = Solution()\n",
    "a.lengthOfLastWord(\"hello world\") # \"\"(空字符) \"a \"（空格结尾字符）"
   ]
  },
  {
   "cell_type": "markdown",
   "metadata": {},
   "source": [
    "## NO.66 Plus One\n",
    "\n",
    "题目：\n",
    "\n",
    "* Given a non-empty array of digits representing a non-negative integer, plus one to the integer.\n",
    "\n",
    "* The digits are stored such that the most significant digit is at the head of the list, and each element in the array contain a single digit.\n",
    "\n",
    "* You may assume the integer does not contain any leading zero, except the number 0 itself.\n",
    "\n",
    "题解：先把列表变为数字，加一后再返回新列表  \n",
    "\n",
    "* list(map(function,iteration))\n",
    "\n",
    "* str.split() 默认以空格为分隔符，包含\"\\n\"\n",
    "\n",
    "* \"\".join(list or str)"
   ]
  },
  {
   "cell_type": "code",
   "execution_count": null,
   "metadata": {},
   "outputs": [],
   "source": [
    "class Solution:\n",
    "    def plusOne(self, digits: List[int]) -> List[int]:\n",
    "        s = list(map(str, digits))\n",
    "        s_0 = str(int(''.join(s)) + 1)\n",
    "        s_1 = \",\".join(s_0)\n",
    "        l = s_1.split(',')\n",
    "        return list(map(int, l))"
   ]
  },
  {
   "cell_type": "markdown",
   "metadata": {},
   "source": [
    "## NO.67 Add Binary\n",
    "\n",
    "题目：\n",
    "\n",
    "* Given two binary strings, return their sum (also a binary string).\n",
    "\n",
    "* The input strings are both non-empty and contains only characters 1 or 0.\n",
    "\n",
    "题解：\n",
    "\n",
    "* int(a,2) 将2进制表示的数转换为10进制表示的数\n",
    "\n",
    "* bin(a) 输出结果为'0b+...'"
   ]
  },
  {
   "cell_type": "code",
   "execution_count": 4,
   "metadata": {},
   "outputs": [],
   "source": [
    "class Solution:\n",
    "    def addBinary(self, a: str, b: str) -> str:\n",
    "        s = int(a,2) + int(b, 2)\n",
    "        return str(bin(s)[2:])"
   ]
  },
  {
   "cell_type": "markdown",
   "metadata": {},
   "source": [
    "## NO.237 Delete Node in a Linked List\n",
    "\n",
    "与其删除，不如更换指向"
   ]
  },
  {
   "cell_type": "code",
   "execution_count": 5,
   "metadata": {},
   "outputs": [],
   "source": [
    "# Definition for singly-linked list.\n",
    "# class ListNode:\n",
    "#     def __init__(self, x):\n",
    "#         self.val = x\n",
    "#         self.next = None\n",
    "\n",
    "class Solution:\n",
    "    def deleteNode(self, node):\n",
    "        \"\"\"\n",
    "        :type node: ListNode\n",
    "        :rtype: void Do not return anything, modify node in-place instead.\n",
    "        \"\"\"\n",
    "        node.val = node.next.val\n",
    "        node.next = node.next.next"
   ]
  },
  {
   "cell_type": "markdown",
   "metadata": {},
   "source": [
    "## NO.70 Climbing Stairs\n",
    "\n",
    "题目：\n",
    "\n",
    "* You are climbing a stair case. It takes n steps to reach to the top.\n",
    "\n",
    "* Each time you can either climb 1 or 2 steps. In how many distinct ways can you climb to the top?\n",
    "\n",
    "* Note: Given n will be a positive integer.\n",
    "\n",
    "题解：斐波那契数列的变体：\n",
    "\n",
    "* 只能以one或two step的方式爬n级楼梯，有几种方式？\n",
    "\n",
    "* 递归算法的复杂度为O(n)，迭代算法的复杂度也是O(n)但是如果递推公式右边包含n项，递归的时间将是迭代的n倍\n",
    "\n",
    "* Python的互换赋值并不需要中间变量"
   ]
  },
  {
   "cell_type": "code",
   "execution_count": 6,
   "metadata": {},
   "outputs": [
    {
     "data": {
      "text/plain": [
       "5"
      ]
     },
     "execution_count": 6,
     "metadata": {},
     "output_type": "execute_result"
    }
   ],
   "source": [
    "class Solution:\n",
    "    def climbStairs(self, n: int) -> int:\n",
    "        a = 0\n",
    "        b = 1\n",
    "        for _ in range(n):\n",
    "            a, b = b, a + b\n",
    "        return b # 以0开头正常的斐波那契数列第n项应返回a，这里是依照题意返回的b\n",
    "a = Solution()\n",
    "a.climbStairs(4)"
   ]
  },
  {
   "cell_type": "markdown",
   "metadata": {},
   "source": [
    "## NO.104 Maximum Depth of Binary Tree\n",
    "\n",
    "第一种做法：递归 \n",
    "\n",
    "$$D_0 = 0$$\n",
    "\n",
    "$$D_{n+1} = D_n + 1$$\n",
    "\n",
    "* 时间复杂度：每个结点只访问一次，因此时间复杂度为 $O(N)$， 其中 $N$ 是结点的数量。\n",
    "\n",
    "* 空间复杂度：在最坏的情况下，树是完全不平衡的，例如每个结点只剩下左子结点，递归将会被调用 $N$ 次（树的高度），因此保持调用栈的存储将是 $O(N)$。但在最好的情况下（树是完全平衡的），树的高度将是 $logN$。因此，在这种情况下的空间复杂度将是 $O(logN)$"
   ]
  },
  {
   "cell_type": "code",
   "execution_count": 8,
   "metadata": {},
   "outputs": [],
   "source": [
    "# Definition for a binary tree node.\n",
    "# class TreeNode:\n",
    "#     def __init__(self, x):\n",
    "#         self.val = x\n",
    "#         self.left = None\n",
    "#         self.right = None\n",
    "\n",
    "class Solution:\n",
    "    def maxDepth(self, root) -> int:\n",
    "        if root == None:\n",
    "            return 0\n",
    "        else:\n",
    "            l = self.maxDepth(root.left)\n",
    "            r = self.maxDepth(root.right)\n",
    "            return max(l, r) + 1"
   ]
  },
  {
   "cell_type": "markdown",
   "metadata": {},
   "source": [
    "第二种做法：迭代法\n",
    "\n",
    "* 转自LeetCode官网，利用栈进行DFS(深度优先搜索)，非常牛掰"
   ]
  },
  {
   "cell_type": "code",
   "execution_count": null,
   "metadata": {},
   "outputs": [],
   "source": [
    "# 方法二 迭代\n",
    "class Solution:\n",
    "    \"\"\"\n",
    "    迭代法\n",
    "    \"\"\"\n",
    "    def maxDepth(self, root):\n",
    "        stack = []                                              # 定义一个空栈，栈中的元素是结点及其对应的深度\n",
    "        if root:                                                # 如果根结点不为空\n",
    "            stack.append((root, 1))                             # 则将根节点及其对应深度1组成的元组入栈\n",
    "        max_depth = 0                                           # 初始化最大深度为零\n",
    "        while stack:                                            # 当栈非空时\n",
    "            tree_node, cur_depth = stack.pop()                  # 弹出栈顶结点及其对应的深度\n",
    "            if tree_node:                                       # 如果该结点不为空\n",
    "                max_depth = max(max_depth, cur_depth)           # 更新当前最大深度，如果该结点深度更大的话\n",
    "                stack.append((tree_node.left, cur_depth+1))     # 将该结点的左孩子结点及其对应深度压入栈中\n",
    "                stack.append((tree_node.right, cur_depth+1))    # 将该结点的右孩子结点及其对应深度压入栈中\n",
    "        return max_depth"
   ]
  },
  {
   "cell_type": "markdown",
   "metadata": {},
   "source": [
    "## NO.121 Best Time to Buy and Sell Stock\n",
    "\n",
    "第一个思路是暴力循环，这种方式的时间复杂度是$O(N^2)$，提交之后需要较长时间，超出时间限制"
   ]
  },
  {
   "cell_type": "code",
   "execution_count": 6,
   "metadata": {},
   "outputs": [
    {
     "data": {
      "text/plain": [
       "5"
      ]
     },
     "execution_count": 6,
     "metadata": {},
     "output_type": "execute_result"
    }
   ],
   "source": [
    "class Solution:\n",
    "    def maxProfit(self, prices) -> int:\n",
    "        r = 0\n",
    "        for i,each in enumerate(prices[:-1]):\n",
    "            t = max(prices[i + 1:])\n",
    "            if t - each > r:\n",
    "                r = t - each\n",
    "        return r\n",
    "a = Solution()\n",
    "a.maxProfit([7,1,5,3,6,4])"
   ]
  },
  {
   "cell_type": "markdown",
   "metadata": {},
   "source": [
    "这个算法的思路是双指针一次循环，两个指针一个记录已经循环过的值中最小值作为cost另一个指针记录当前的利润，时间复杂度是$O(N)$"
   ]
  },
  {
   "cell_type": "code",
   "execution_count": 8,
   "metadata": {},
   "outputs": [
    {
     "data": {
      "text/plain": [
       "5"
      ]
     },
     "execution_count": 8,
     "metadata": {},
     "output_type": "execute_result"
    }
   ],
   "source": [
    "class Solution:\n",
    "    def maxProfit(self, prices) -> int:\n",
    "        cost = float('inf')\n",
    "        profit = 0\n",
    "        for price in prices:\n",
    "            cost = min(cost,price)\n",
    "            profit = max(profit, price - cost)\n",
    "        return profit\n",
    "a = Solution()\n",
    "a.maxProfit([7,1,5,3,6,4])"
   ]
  },
  {
   "cell_type": "markdown",
   "metadata": {},
   "source": [
    "## NO.292 Nim Game \n",
    "\n",
    "发现需要抄题了不然很多东西再看的时候就忘了：\n",
    "\n",
    "* You are playing the following Nim Game with your friend: There is a heap of stones on the table, each time one of you take turns to remove 1 to 3 stones. The one who removes the last stone will be the winner. You will take the first turn to remove the stones.Both of you are very clever and have optimal strategies for the game. Write a function to determine whether you can win the game given the number of stones in the heap.\n",
    "\n",
    "* Stones如果是 4 那么先手就赢不了，因为无论拿走1，2，3，最后剩余的都是被对手拿走\n",
    "\n",
    "题解：\n",
    "\n",
    "* 这是个脑筋急转弯，只要写出来几项就可以发现规律，如果 stones 的数量是4的倍数先手就会输，反之先手就会赢\n",
    "\n",
    "* 对于高手这样子写一行代码最牛掰，我一开始用了一个 if else 条件语句，可读性不错然而多了很多不必要的判断"
   ]
  },
  {
   "cell_type": "code",
   "execution_count": 9,
   "metadata": {},
   "outputs": [
    {
     "data": {
      "text/plain": [
       "False"
      ]
     },
     "execution_count": 9,
     "metadata": {},
     "output_type": "execute_result"
    }
   ],
   "source": [
    "class Solution:\n",
    "    def canWinNim(self, n: int) -> bool:\n",
    "        return  n % 4 != 0\n",
    "a = Solution()\n",
    "a.canWinNim(4)"
   ]
  },
  {
   "cell_type": "markdown",
   "metadata": {},
   "source": [
    "## NO.344 Reverse String\n",
    "\n",
    "题目：\n",
    "\n",
    "* Write a function that reverses a string. The input string is given as an array of characters char[].Do not allocate extra space for another array, you must do this by modifying the input array in-place with O(1) extra memory.\n",
    "\n",
    "题解：\n",
    "\n",
    "* 两个指针分别从头尾开始向中间循环，并交换数值"
   ]
  },
  {
   "cell_type": "code",
   "execution_count": 10,
   "metadata": {},
   "outputs": [
    {
     "data": {
      "text/plain": [
       "['r', 'e', 'h', ' ', 'e', 'v', 'o', 'l', ' ', 'I']"
      ]
     },
     "execution_count": 10,
     "metadata": {},
     "output_type": "execute_result"
    }
   ],
   "source": [
    "class Solution:\n",
    "    def reverseString(self, s) -> None:\n",
    "        \"\"\"\n",
    "        Do not return anything, modify s in-place instead.\n",
    "        \"\"\"\n",
    "        t1, t2 = 0, len(s)-1\n",
    "        for _ in range(len(s)//2):\n",
    "            s[t1], s[t2] = s[t2], s[t1]\n",
    "            t1 += 1\n",
    "            t2 -= 1\n",
    "a = Solution()\n",
    "s = \",\".join(\"I love her\").split(\",\")\n",
    "a.reverseString(s)\n",
    "s"
   ]
  },
  {
   "cell_type": "markdown",
   "metadata": {},
   "source": [
    "## NO.557 Reverse Words in a String III\n",
    "\n",
    "题目：\n",
    "\n",
    "* Given a string, you need to reverse the order of characters in each word within a sentence while still preserving whitespace and initial word order.\n",
    "\n",
    "题解：\n",
    "\n",
    "* 第一次想到的方式是利用双重循环实现，如下，注意 r 末尾有一个空格，返回时需要用到切片避免这个空格"
   ]
  },
  {
   "cell_type": "code",
   "execution_count": 6,
   "metadata": {},
   "outputs": [
    {
     "data": {
      "text/plain": [
       "'I evol uoy'"
      ]
     },
     "execution_count": 6,
     "metadata": {},
     "output_type": "execute_result"
    }
   ],
   "source": [
    "class Solution:\n",
    "    def reverseWords(self, s: str) -> str:\n",
    "        r = ''\n",
    "        for k in s.split():\n",
    "            l = ''\n",
    "            for i in range(len(k)-1,-1,-1):\n",
    "                l += k[i]\n",
    "            r = r + l + ' '\n",
    "        return r[:-1]\n",
    "a = Solution()\n",
    "a.reverseWords('I love you')"
   ]
  },
  {
   "cell_type": "markdown",
   "metadata": {},
   "source": [
    "* 更为 pythonic 的做法是利用字符串反向索引 str[::-1] 来翻转字符串，点睛之笔是从列表翻转第一次，得到逆序排列的句子，此时单词是正序。之后把列表 join 为一个字符串，再整个翻转，得到句子顺序不变，单词顺序改变的结果\n",
    "    \n",
    "    1. 注意在将列表 join 成一个字符串的时候要加入 \" \" 做分隔符"
   ]
  },
  {
   "cell_type": "code",
   "execution_count": 8,
   "metadata": {},
   "outputs": [
    {
     "data": {
      "text/plain": [
       "'I evol uoy'"
      ]
     },
     "execution_count": 8,
     "metadata": {},
     "output_type": "execute_result"
    }
   ],
   "source": [
    "class Solution:\n",
    "    def reverseWords(self, s: str) -> str:\n",
    "        r = ' '.join(s.split()[::-1])[::-1]\n",
    "        return r\n",
    "a = Solution()\n",
    "a.reverseWords('I love you')"
   ]
  },
  {
   "cell_type": "markdown",
   "metadata": {},
   "source": [
    "## NO.206 Reverse Linked List\n",
    "\n",
    "题目：\n",
    "\n",
    "* Reverse a singly linked list.\n",
    "\n",
    "题解：\n",
    "\n",
    "* 保持节点的 val 不变，next指向前一个节点\n",
    "\n",
    "* 循环链表需采用 while 的形式"
   ]
  },
  {
   "cell_type": "code",
   "execution_count": 11,
   "metadata": {},
   "outputs": [],
   "source": [
    "class Solution:\n",
    "    def reverseList(self, head):\n",
    "        if not head:                        # 如果head 没有值\n",
    "            return                          # 则返回空\n",
    "        pre = None                          # 用pre储存之前的一个head\n",
    "        while head.next:                    # 当 head.next 有值时，循环\n",
    "            nex = head.next                 # 用 nex 储存下一个 node\n",
    "            head.next = pre                 # 转换指向方向\n",
    "            pre = head                      # 更新pre\n",
    "            head = nex                      # 更新head\n",
    "        head.next = pre                     # 循环结束时最后一个head还没有转换指向方向。转换过来\n",
    "        return head"
   ]
  },
  {
   "cell_type": "markdown",
   "metadata": {},
   "source": [
    "## NO. 136 Single Number\n",
    "\n",
    "题目：\n",
    "\n",
    "* Given a non-empty array of integers, every element appears twice except for one. Find that single one.\n",
    "\n",
    "* Note:Your algorithm should have a linear runtime complexity. Could you implement it without using extra memory?\n",
    "\n",
    "题解：\n",
    "\n",
    "* 第一种自己做出来的,为了追求空间复杂度为$O(1)$，时间复杂度达到了$O(nlogn)$,思路是先对列表进行排序，排序后循环判断偶数位元素是否与奇数位元素相等你，若不等则返回当前偶数位。\n",
    "\n",
    "    * Python 内置排序函数的时间复杂度是$O(nlogn)$空间复杂度为$O(1)$\n"
   ]
  },
  {
   "cell_type": "code",
   "execution_count": 5,
   "metadata": {},
   "outputs": [
    {
     "data": {
      "text/plain": [
       "4"
      ]
     },
     "execution_count": 5,
     "metadata": {},
     "output_type": "execute_result"
    }
   ],
   "source": [
    "class Solution:\n",
    "    def singleNumber(self, nums) -> int:\n",
    "        nums.sort()\n",
    "        for i in range(len(nums)//2):\n",
    "            if nums[2*i+1] != nums[2*i]:\n",
    "                return nums[2*i]\n",
    "        return nums[-1]\n",
    "a = Solution()\n",
    "a.singleNumber([1,2,3,3,2,1,4])"
   ]
  },
  {
   "cell_type": "markdown",
   "metadata": {},
   "source": [
    "* 第二种思路是用一个集合充当容器，如果列表里的元素不在集合中就加入集合，在集合中就从从集合中除去，最后返回集合中的元素，这种方法时间复杂度和空间复杂度都是$O(n)$\n",
    "\n",
    "    * 向字典中添加键的方法 dict.update(key = value)\n",
    "\n",
    "    * 删除键的方法 dict.pop(key)\n",
    "\n",
    "    * 返回字典键的方法 list(dict.keys()) 以列表形式返回，不加 list() 返回的是迭代器"
   ]
  },
  {
   "cell_type": "code",
   "execution_count": 14,
   "metadata": {},
   "outputs": [
    {
     "data": {
      "text/plain": [
       "4"
      ]
     },
     "execution_count": 14,
     "metadata": {},
     "output_type": "execute_result"
    }
   ],
   "source": [
    "class Solution:\n",
    "    def singleNumber(self, nums) -> int:\n",
    "        s = {}\n",
    "        for each in nums:\n",
    "            if each not in s:\n",
    "                s[each] = 0\n",
    "            else:\n",
    "                s.pop(each)\n",
    "        return list(s.keys())[0]\n",
    "a = Solution()\n",
    "a.singleNumber([1,2,3,3,2,1,4])"
   ]
  },
  {
   "cell_type": "markdown",
   "metadata": {},
   "source": [
    "* 第三种思路是题目最优解,时间复杂度为$O(n)$,空间复杂度为$O(1)$\n",
    "    \n",
    "    * 异或（^） 二进制数的异或运算有如下性质：\n",
    "        \n",
    "        * `a ^ a` = `0`\n",
    "        \n",
    "        * `a ^ 0` = `a`\n",
    "        \n",
    "        * `a ^ b ^ a` = `a ^ a ^ b`\n",
    "    \n",
    "    * 以题目为例：`1 ^ 2 ^ 3 ^ 3 ^ 2 ^ 1 ^ 4` = `1 ^ 1 ^ 2 ^ 2 ^ 3 ^ 3 ^ 4` = `4`\n",
    "    \n",
    "    * 我是服了，真滴牛逼"
   ]
  },
  {
   "cell_type": "code",
   "execution_count": 16,
   "metadata": {},
   "outputs": [
    {
     "data": {
      "text/plain": [
       "4"
      ]
     },
     "execution_count": 16,
     "metadata": {},
     "output_type": "execute_result"
    }
   ],
   "source": [
    "class Solution:\n",
    "    def singleNumber(self, nums) -> int:\n",
    "        a = 0\n",
    "        for each in nums:\n",
    "            a ^= each\n",
    "        return a\n",
    "a = Solution()\n",
    "a.singleNumber([1,2,3,3,2,1,4])"
   ]
  },
  {
   "cell_type": "markdown",
   "metadata": {},
   "source": [
    "## NO.141 Linked List Cycle\n",
    "\n",
    "题目：\n",
    "\n",
    "* Given a linked list, determine if it has a cycle in it.\n",
    "\n",
    "题解：\n",
    "\n",
    "* 第一种思路是快慢指针，把链表想象成跑道，如果跑道是直线的，那么快指针一定会先到达终点，而如果是循环的链表则快慢指针会相遇"
   ]
  },
  {
   "cell_type": "code",
   "execution_count": 17,
   "metadata": {},
   "outputs": [],
   "source": [
    "# Definition for singly-linked list.\n",
    "# class ListNode(object):\n",
    "#     def __init__(self, x):\n",
    "#         self.val = x\n",
    "#         self.next = None\n",
    "\n",
    "class Solution(object):\n",
    "    def hasCycle(self, head):\n",
    "        \"\"\"\n",
    "        :type head: ListNode\n",
    "        :rtype: bool\n",
    "        \"\"\"\n",
    "        if not head or not head.next :\n",
    "            return False\n",
    "        slow = head\n",
    "        fast = head.next\n",
    "        while slow != fast:\n",
    "            if not fast or not fast.next:\n",
    "                return False\n",
    "            slow = slow.next\n",
    "            fast = fast.next.next\n",
    "        else:\n",
    "            return True"
   ]
  },
  {
   "cell_type": "markdown",
   "metadata": {},
   "source": [
    "* 第二种思路，使用哈希表，将节点依次存入哈希表，如果没有再可以存入的节点则链表中不存在循环，如果待存入节点已经在哈希表中存在，则说明链表中存在循环。\n",
    "\n",
    "* 特殊方法置空法，也是利用了哈希表的思想，while 遍历每一个节点，然后将每一个节点的 val 设为 None，当 node.val 不为空，而 node.next 为空的时候，就说明到了列表的自然末尾，而如果 node.val 与 node.next 均为空时说明回到了链表之中，则有循环。这种方法比哈希表法节省内存，空间复杂度为$O(1)$"
   ]
  },
  {
   "cell_type": "code",
   "execution_count": 18,
   "metadata": {},
   "outputs": [],
   "source": [
    "    def hasCycle(self, head):\n",
    "        if not head:\n",
    "            return False\n",
    "        while head.next and head.val:\n",
    "            head.val = None  # 遍历的过程中将值置空\n",
    "            head = head.next\n",
    "        if not head.next:  # 如果碰到空发现已经结束，则无环\n",
    "            return False\n",
    "        return True  # 否则有环"
   ]
  },
  {
   "cell_type": "markdown",
   "metadata": {},
   "source": [
    "## NO.235 Lowest Common Ancestor of a Binary Search Tree\n",
    "\n",
    "题目：\n",
    "\n",
    "* Given a binary search tree (BST), find the lowest common ancestor (LCA) of two given nodes in the BST.According to the definition of LCA on Wikipedia: “The lowest common ancestor is defined between two nodes p and q as the lowest node in T that has both p and q as descendants (where we allow a node to be a descendant of itself).”\n",
    "\n",
    "* Given binary search tree:  root = [6,2,8,0,4,7,9,null,null,3,5]\n",
    "\n",
    "题解：binary search tree\n",
    "\n",
    "* 特点是左子节点小于等于根节点；右子节点大于等于根节点；对于任意节点都适用\n",
    "\n",
    "* 第一种递归解法：时间复杂度与空间复杂度均为$O(n)$\n",
    "\n",
    "    * 递归地搜索整个树，如果两个子节点一左一右地分布在根节点左右，那么两个节点的最近祖先就是该根节点"
   ]
  },
  {
   "cell_type": "code",
   "execution_count": 1,
   "metadata": {},
   "outputs": [],
   "source": [
    "# Definition for a binary tree node.\n",
    "# class TreeNode:\n",
    "#     def __init__(self, x):\n",
    "#         self.val = x\n",
    "#         self.left = None\n",
    "#         self.right = None\n",
    "\n",
    "class Solution:\n",
    "    def lowestCommonAncestor(self, root: 'TreeNode', p: 'TreeNode', q: 'TreeNode') -> 'TreeNode':\n",
    "        parent_val = root.val              # Value of current node or parent node.\n",
    "        p_val = p.val                      # Value of p\n",
    "        q_val = q.val                      # Value of q\n",
    "        if p_val > parent_val and q_val > parent_val:            # If both p and q are greater than parent\n",
    "            return self.lowestCommonAncestor(root.right, p, q)\n",
    "        \n",
    "        elif p_val < parent_val and q_val < parent_val:          # If both p and q are lesser than parent  \n",
    "            return self.lowestCommonAncestor(root.left, p, q)\n",
    "        else:                                                    # We have found the split point, i.e. the LCA node.\n",
    "            return root"
   ]
  },
  {
   "cell_type": "markdown",
   "metadata": {},
   "source": [
    "第二种方式是迭代：\n",
    "\n",
    "* 迭代可以用变量储存并更新可能用到的值，所以比递归更加节省空间，一般也会更快\n",
    "\n",
    "* 迭代需要固定循环次数"
   ]
  },
  {
   "cell_type": "code",
   "execution_count": 2,
   "metadata": {},
   "outputs": [],
   "source": [
    "# Definition for a binary tree node.\n",
    "# class TreeNode:\n",
    "#     def __init__(self, x):\n",
    "#         self.val = x\n",
    "#         self.left = None\n",
    "#         self.right = None\n",
    "\n",
    "class Solution:\n",
    "    def lowestCommonAncestor(self, root: 'TreeNode', p: 'TreeNode', q: 'TreeNode') -> 'TreeNode':\n",
    "        p_val = p.val                 # Value of p\n",
    "        q_val = q.val                 # Value of q\n",
    "        node = root                   # Start from the root node of the tree\n",
    "        while node:                   # Traverse the tree\n",
    "            parent_val = node.val     # Value of current node or parent node.\n",
    "            if p_val > parent_val and q_val > parent_val:    \n",
    "                # If both p and q are greater than parent\n",
    "                node = node.right\n",
    "            elif p_val < parent_val and q_val < parent_val:\n",
    "                # If both p and q are lesser than parent\n",
    "                node = node.left\n",
    "            else:\n",
    "                # We have found the split point, i.e. the LCA node.\n",
    "                return node"
   ]
  },
  {
   "cell_type": "markdown",
   "metadata": {},
   "source": [
    "## NO.169 Majority Element\n",
    "\n",
    "题目：\n",
    "\n",
    "* Given an array of size n, find the majority element. The majority element is the element that appears more than ⌊ n/2 ⌋ times.\n",
    "\n",
    "* You may assume that the array is non-empty and the majority element always exist in the array.\n",
    "\n",
    "题解：\n",
    "\n",
    "* 哈希表是第一个想到的，时间复杂度与空间复杂度均为$O(n)$，此题有多种解法，包括暴力法，分治法，随机法，这些算法要么时间复杂度更大，要么空间复杂度更大，综合考量哈希表法最好。"
   ]
  },
  {
   "cell_type": "code",
   "execution_count": 4,
   "metadata": {},
   "outputs": [
    {
     "data": {
      "text/plain": [
       "2"
      ]
     },
     "execution_count": 4,
     "metadata": {},
     "output_type": "execute_result"
    }
   ],
   "source": [
    "class Solution:\n",
    "    def majorityElement(self, nums):\n",
    "        count = 0\n",
    "        candidate = None\n",
    "\n",
    "        for num in nums:\n",
    "            if count == 0:\n",
    "                candidate = num\n",
    "            count += (1 if num == candidate else -1)\n",
    "        return candidate\n",
    "a = Solution()\n",
    "a.majorityElement([3,2,3,2,2,4])"
   ]
  },
  {
   "cell_type": "markdown",
   "metadata": {},
   "source": [
    "Python 导入 collections 模块中的 Counter 可以一行解决\n",
    "\n",
    "* Counter 这个是一个集合，键为列表的元素，值为元素的统计计数\n",
    "\n",
    "* max([x1,x2,...],key = default): key = 一个函数，max 首先将函数应用于list中的所有x，得到y的序列，并返回最大y对应的x"
   ]
  },
  {
   "cell_type": "code",
   "execution_count": 15,
   "metadata": {},
   "outputs": [
    {
     "data": {
      "text/plain": [
       "2"
      ]
     },
     "execution_count": 15,
     "metadata": {},
     "output_type": "execute_result"
    }
   ],
   "source": [
    "import collections\n",
    "class Solution:\n",
    "    def majorityElement(self, nums) -> int:\n",
    "        counts = collections.Counter(nums)\n",
    "        return max(counts.keys(), key=lambda x: counts[x])\n",
    "      # return max(counts.keys(), key = counts.get) 效果一样\n",
    "a = Solution()\n",
    "a.majorityElement([3,2,3,2,2,4])"
   ]
  },
  {
   "cell_type": "markdown",
   "metadata": {},
   "source": [
    "此题不得不提的就是一个时间复杂度为$O(n)$,空间复杂度为$O(1)$的投票算法，太牛逼了，思路如下：\n",
    "\n",
    "* 列表中大于 len(list)//2 的元素只有一个，这个就是我们要求的数，为了方便指代，给它一个名字叫做大众数\n",
    "\n",
    "* 如果把大众数设为1，其他数都设为-1，那么列表里所有元素之和为正数\n",
    "\n",
    "* 循环整个列表，初始化和为0，当和为0时，将下一个元素作为新的1，其他元素为-1\n",
    "    \n",
    "    * example:[7, 7, 5, 7, 5, 1 | 5, 7 | 5, 5, 7, 7 | 7, 7, 7, 7]\n",
    "\n",
    "    * 首先，下标为 0 的 7 被当做众数的第一个候选。在下标为 5 处，计数器会变回0 。所以下标为 6 的 5 是下一个众数的候选者。由于这个例子中 7 是真正的众数，所以通过忽略掉前面的数字，我们忽略掉了同样多数目的众数和非众数。因此， 7 仍然是剩下数字中的众数。"
   ]
  },
  {
   "cell_type": "code",
   "execution_count": 17,
   "metadata": {},
   "outputs": [
    {
     "data": {
      "text/plain": [
       "2"
      ]
     },
     "execution_count": 17,
     "metadata": {},
     "output_type": "execute_result"
    }
   ],
   "source": [
    "class Solution:\n",
    "    def majorityElement(self, nums) -> int:\n",
    "            s = 0\n",
    "            for each in nums:\n",
    "                if s == 0:\n",
    "                    t = each\n",
    "                s += 1 if each == t else -1\n",
    "            return t\n",
    "a = Solution()\n",
    "a.majorityElement([3,2,3,2,2,4])"
   ]
  },
  {
   "cell_type": "markdown",
   "metadata": {},
   "source": [
    "## NO.122 Best Time to Buy and Sell Stock II\n",
    "\n",
    "题目：\n",
    "\n",
    "* Say you have an array for which the ith element is the price of a given stock on day i. Design an algorithm to find the maximum profit. You may complete as many transactions as you like (i.e., buy one and sell one share of the stock multiple times).\n",
    "\n",
    "* Note: You may not engage in multiple transactions at the same time (i.e., you must sell the stock before you buy again).\n",
    "\n",
    "题解：\n",
    "\n",
    "* 动态规划，状态转移方程：profit[i] = profit[i] + max(0,price[i] - price[i - 1])"
   ]
  },
  {
   "cell_type": "code",
   "execution_count": 1,
   "metadata": {},
   "outputs": [
    {
     "data": {
      "text/plain": [
       "7"
      ]
     },
     "execution_count": 1,
     "metadata": {},
     "output_type": "execute_result"
    }
   ],
   "source": [
    "class Solution:\n",
    "    def maxProfit(self, prices) -> int:\n",
    "        total = 0\n",
    "        for i in range(len(prices)-1):\n",
    "            s = prices[i + 1] - prices[i]\n",
    "            if s > 0:\n",
    "                total += s\n",
    "        return total\n",
    "a = Solution()\n",
    "a.maxProfit([7,1,5,3,6,4])"
   ]
  },
  {
   "cell_type": "markdown",
   "metadata": {},
   "source": [
    "## NO.217 Contains Duplicate\n",
    "\n",
    "题目：\n",
    "\n",
    "* Given an array of integers, find if the array contains any duplicates.Your function should return true if any value appears at least twice in the array, and it should return false if every element is distinct."
   ]
  },
  {
   "cell_type": "code",
   "execution_count": 1,
   "metadata": {},
   "outputs": [
    {
     "data": {
      "text/plain": [
       "True"
      ]
     },
     "execution_count": 1,
     "metadata": {},
     "output_type": "execute_result"
    }
   ],
   "source": [
    "class Solution:\n",
    "    def containsDuplicate(self, nums) -> bool:\n",
    "        return len(set(nums)) != len(nums)\n",
    "a = Solution()\n",
    "a.containsDuplicate([1,2,1])"
   ]
  },
  {
   "cell_type": "markdown",
   "metadata": {},
   "source": [
    "## NO.88 Merge Sorted Array\n",
    "\n",
    "题目：\n",
    "\n",
    "* Given two sorted integer arrays nums1 and nums2, merge nums2 into nums1 as one sorted array.\n",
    "\n",
    "* Note:\n",
    "\n",
    "    * The number of elements initialized in nums1 and nums2 are m and n respectively.\n",
    "    \n",
    "    * You may assume that nums1 has enough space (size that is greater or equal to m + n) to hold additional elements from nums2.\n",
    "\n",
    "题解：\n",
    "\n",
    "* 最开始想到的就是列表相加后排序，具有$O(nlogn)$的时间复杂度，空间复杂度理论可以达到$O(1)$"
   ]
  },
  {
   "cell_type": "code",
   "execution_count": 17,
   "metadata": {},
   "outputs": [
    {
     "data": {
      "text/plain": [
       "[1, 2, 3, 4, 5, 6]"
      ]
     },
     "execution_count": 17,
     "metadata": {},
     "output_type": "execute_result"
    }
   ],
   "source": [
    "class Solution:\n",
    "    def merge(self, nums1, m: int, nums2, n: int) -> None:\n",
    "        \"\"\"\n",
    "        Do not return anything, modify nums1 in-place instead.\n",
    "        \"\"\"\n",
    "        nums1[:] = sorted(nums1[:m] + nums2)\n",
    "a = Solution()\n",
    "m = [2,1,3,0,0,0]\n",
    "n = [4,5,6]\n",
    "a.merge(m,3,n,3)\n",
    "m"
   ]
  },
  {
   "cell_type": "markdown",
   "metadata": {},
   "source": [
    "* 更好的方法是双指针法，时间复杂度与空间复杂度都是$O(n)$\n",
    "\n",
    "    * list.append()只能有一个参数\n",
    "    \n",
    "    * 尾部的逻辑也要考虑到！"
   ]
  },
  {
   "cell_type": "code",
   "execution_count": 22,
   "metadata": {},
   "outputs": [
    {
     "data": {
      "text/plain": [
       "[2, 1, 3, 4, 5, 6]"
      ]
     },
     "execution_count": 22,
     "metadata": {},
     "output_type": "execute_result"
    }
   ],
   "source": [
    "class Solution:\n",
    "    def merge(self, nums1, m: int, nums2, n: int) -> None:\n",
    "        \"\"\"\n",
    "        Do not return anything, modify nums1 in-place instead.\n",
    "        \"\"\"\n",
    "        i = 0\n",
    "        j = 0\n",
    "        k = []\n",
    "        for w in range(m+n):\n",
    "            if i == m:\n",
    "                k.append(nums2[j])\n",
    "                j += 1\n",
    "            elif j == n:\n",
    "                k.append(nums1[i])\n",
    "                i += 1\n",
    "            elif nums1[i] <= nums2[j]:\n",
    "                k.append(nums1[i])\n",
    "                i += 1\n",
    "            else:\n",
    "                k.append(nums2[j])\n",
    "                j += 1\n",
    "        nums1[:] = k\n",
    "a = Solution()\n",
    "m = [2,1,3,0,0,0]\n",
    "n = [4,5,6]\n",
    "a.merge(m,3,n,3)\n",
    "m               "
   ]
  },
  {
   "cell_type": "markdown",
   "metadata": {},
   "source": [
    "## NO.155 Min Stack\n",
    "\n",
    "题目：\n",
    "\n",
    "* Design a stack that supports push, pop, top, and retrieving the minimum element in constant time.\n",
    "\n",
    "    * push(x) -- Push element x onto stack.\n",
    "    * pop() -- Removes the element on top of the stack.\n",
    "    * top() -- Get the top element.\n",
    "    * getMin() -- Retrieve the minimum element in the stack.\n",
    "\n",
    "题解：\n",
    "\n",
    "* 用 list 模拟 stack"
   ]
  },
  {
   "cell_type": "code",
   "execution_count": 25,
   "metadata": {},
   "outputs": [],
   "source": [
    "class MinStack:\n",
    "\n",
    "    def __init__(self):\n",
    "        \"\"\"\n",
    "        initialize your data structure here.\n",
    "        \"\"\"\n",
    "        self.var = []\n",
    "\n",
    "    def push(self, x: int) -> None:\n",
    "        self.var.append(x)\n",
    "\n",
    "    def pop(self) -> None:\n",
    "        self.var.pop()\n",
    "\n",
    "    def top(self) -> int:\n",
    "        return self.var[-1]\n",
    "\n",
    "    def getMin(self) -> int:\n",
    "        return min(self.var)\n",
    "\n",
    "\n",
    "# Your MinStack object will be instantiated and called as such:\n",
    "# obj = MinStack()\n",
    "# obj.push(x)\n",
    "# obj.pop()\n",
    "# param_3 = obj.top()\n",
    "# param_4 = obj.getMin()"
   ]
  },
  {
   "cell_type": "markdown",
   "metadata": {},
   "source": [
    "## NO.231 Power of Two\n",
    "\n",
    "题目：\n",
    "\n",
    "* Given an integer, write a function to determine if it is a power of two.\n",
    "\n",
    "题解：\n",
    "\n",
    "* 除2法"
   ]
  },
  {
   "cell_type": "code",
   "execution_count": 28,
   "metadata": {},
   "outputs": [
    {
     "data": {
      "text/plain": [
       "True"
      ]
     },
     "execution_count": 28,
     "metadata": {},
     "output_type": "execute_result"
    }
   ],
   "source": [
    "class Solution:\n",
    "    def isPowerOfTwo(self, n: int) -> bool:\n",
    "        if n <= 0:\n",
    "            return False\n",
    "        else:\n",
    "            while n > 1:\n",
    "                if n%1 != 0:\n",
    "                    return False\n",
    "                else:\n",
    "                    n = n/2\n",
    "            return True\n",
    "a = Solution()\n",
    "a.isPowerOfTwo(16)"
   ]
  },
  {
   "cell_type": "markdown",
   "metadata": {},
   "source": [
    "* 按位与 &\n",
    "\n",
    "    * 如果 n 是 2 的幂次，那么其最高位一定为1，其余为0\n",
    "  \n",
    "    * n-1 最高位为 0，其余位为 1\n",
    "  \n",
    "    * n&(n-1) 为 0"
   ]
  },
  {
   "cell_type": "code",
   "execution_count": 30,
   "metadata": {},
   "outputs": [
    {
     "data": {
      "text/plain": [
       "True"
      ]
     },
     "execution_count": 30,
     "metadata": {},
     "output_type": "execute_result"
    }
   ],
   "source": [
    "class Solution:\n",
    "    def isPowerOfTwo(self, n: int) -> bool:\n",
    "        if n <= 0:\n",
    "            return False\n",
    "        return n&(n-1) == 0\n",
    "a = Solution()\n",
    "a.isPowerOfTwo(16)"
   ]
  },
  {
   "cell_type": "markdown",
   "metadata": {},
   "source": [
    "## NO.160 Intersection of Two Linked Lists\n",
    "\n",
    "题目：\n",
    "\n",
    "* Write a program to find the node at which the intersection of two singly linked lists begins.\n",
    "\n",
    "题解：\n",
    "\n",
    "* 把链表想象成一个\"8\"， 相遇问题，双指针，复杂度为$O(n)$"
   ]
  },
  {
   "cell_type": "code",
   "execution_count": 1,
   "metadata": {},
   "outputs": [],
   "source": [
    "# Definition for singly-linked list.\n",
    "# class ListNode(object):\n",
    "#     def __init__(self, x):\n",
    "#         self.val = x\n",
    "#         self.next = None\n",
    "\n",
    "class Solution(object):\n",
    "    def getIntersectionNode(self, headA, headB):\n",
    "        \"\"\"\n",
    "        :type head1, head1: ListNode\n",
    "        :rtype: ListNode\n",
    "        \"\"\"\n",
    "        ha, hb = headA, headB\n",
    "        while ha != hb:\n",
    "            ha = ha.next if ha else headB\n",
    "            hb = hb.next if hb else headA\n",
    "        return ha"
   ]
  },
  {
   "cell_type": "markdown",
   "metadata": {},
   "source": [
    "## NO.415 Add Strings\n",
    "\n",
    "题目：\n",
    "\n",
    "- Given two non-negative integers num1 and num2 represented as string, return the sum of num1 and num2.\n",
    "\n",
    "- Note:\n",
    "\n",
    "    - The length of both num1 and num2 is < 5100.\n",
    "    \n",
    "    - Both num1 and num2 contains only digits 0-9.\n",
    "    \n",
    "    - Both num1 and num2 does not contain any leading zero.\n",
    "    \n",
    "    - You must not use any built-in BigInteger library or convert the inputs to integer directly.\n",
    "\n",
    "题解：\n",
    "\n",
    "- 转为整数再相加，就非常轻松，然而不符合题意"
   ]
  },
  {
   "cell_type": "code",
   "execution_count": 45,
   "metadata": {},
   "outputs": [
    {
     "data": {
      "text/plain": [
       "'1938'"
      ]
     },
     "execution_count": 45,
     "metadata": {},
     "output_type": "execute_result"
    }
   ],
   "source": [
    "class Solution:\n",
    "    def addStrings(self, num1: str, num2: str) -> str:\n",
    "        return str(int(num1) + int(num2))\n",
    "a = Solution()\n",
    "a.addStrings('1849','89')"
   ]
  },
  {
   "cell_type": "markdown",
   "metadata": {},
   "source": [
    "- 本题目的在于模拟加法过程："
   ]
  },
  {
   "cell_type": "code",
   "execution_count": 46,
   "metadata": {},
   "outputs": [
    {
     "name": "stdout",
     "output_type": "stream",
     "text": [
      "0089 1849\n"
     ]
    },
    {
     "data": {
      "text/plain": [
       "'1938'"
      ]
     },
     "execution_count": 46,
     "metadata": {},
     "output_type": "execute_result"
    }
   ],
   "source": [
    "class Solution:\n",
    "    def addStrings(self, num1: str, num2: str) -> str:\n",
    "        mn = str(min(int(num1),int(num2)))\n",
    "        mx = str(max(int(num1),int(num2)))\n",
    "        mn = '0' * abs(len(num1)-len(num2)) + mn \n",
    "        print(mn,mx)\n",
    "        ret = ''\n",
    "        add = 0\n",
    "        for i, each in enumerate(mx[::-1]):\n",
    "            tmp0 = int(each) + int(mn[::-1][i]) + add \n",
    "            tmp = str(tmp0%10)\n",
    "            if int(each) + int(mn[::-1][i]) >= 10:\n",
    "                add = 1\n",
    "            else:\n",
    "                add = 0\n",
    "            ret += tmp\n",
    "        ret = ret + '1' if tmp0 >= 10 else ret\n",
    "        return ret[::-1]\n",
    "a = Solution()\n",
    "a.addStrings('1849','89')"
   ]
  }
 ],
 "metadata": {
  "kernelspec": {
   "display_name": "Python 3",
   "language": "python",
   "name": "python3"
  },
  "language_info": {
   "codemirror_mode": {
    "name": "ipython",
    "version": 3
   },
   "file_extension": ".py",
   "mimetype": "text/x-python",
   "name": "python",
   "nbconvert_exporter": "python",
   "pygments_lexer": "ipython3",
   "version": "3.7.3"
  }
 },
 "nbformat": 4,
 "nbformat_minor": 2
}
