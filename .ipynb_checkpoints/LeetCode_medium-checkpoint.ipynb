{
 "cells": [
  {
   "cell_type": "markdown",
   "metadata": {},
   "source": [
    "# LeetCode Medium"
   ]
  },
  {
   "cell_type": "markdown",
   "metadata": {},
   "source": [
    "- 字符串中的‘ ’并不为 None，判断时要注意，if ‘ ’总会进入条件"
   ]
  },
  {
   "cell_type": "code",
   "execution_count": 8,
   "metadata": {},
   "outputs": [
    {
     "name": "stdout",
     "output_type": "stream",
     "text": [
      "yes\n"
     ]
    }
   ],
   "source": [
    "s = ' '\n",
    "for x in s:\n",
    "    if x:\n",
    "        print('yes')"
   ]
  },
  {
   "cell_type": "markdown",
   "metadata": {},
   "source": [
    "## NO.8 String to Integer (atoi)\n",
    "\n",
    "题目：\n",
    "\n",
    "* Implement atoi which converts a string to an integer.\n",
    "\n",
    "* The function first discards as many whitespace characters as necessary until the first non-whitespace character is found. Then, starting from this character, takes an optional initial plus or minus sign followed by as many numerical digits as possible, and interprets them as a numerical value.\n",
    "\n",
    "* The string can contain additional characters after those that form the integral number, which are ignored and have no effect on the behavior of this function.\n",
    "\n",
    "* If the first sequence of non-whitespace characters in str is not a valid integral number, or if no such sequence exists because either str is empty or it contains only whitespace characters, no conversion is performed.\n",
    "\n",
    "* If no valid conversion could be performed, a zero value is returned.\n",
    "\n",
    "* Note:\n",
    "\n",
    "    * Only the space character ' ' is considered as whitespace character.\n",
    "    \n",
    "    * Assume we are dealing with an environment which could only store integers within the 32-bit signed integer range: [−231,  231 − 1]. If the numerical value is out of the range of representable values, INT_MAX (231 − 1) or INT_MIN (−231) is returned.\n",
    "    \n",
    "题解：\n",
    "\n",
    "* 依照题目，初步思路是双指针搜索，然而非常困难\n",
    "\n",
    "* 更好的方式是正则表达式，又一个盲点（upset）\n",
    "\n",
    "* '[\\+\\-]?\\d+'\n",
    "\n",
    "    - ^：匹配字符串开头\n",
    "    \n",
    "    - [\\+\\-]：代表一个+字符或-字符\n",
    "\n",
    "    - ?：前面一个字符可有可无\n",
    "\n",
    "    - \\d：一个数字\n",
    "\n",
    "    - +：前面一个字符的一个或多个\n",
    "\n",
    "    - \\D：一个非数字字符\n",
    "\n",
    "    - \\*：前面一个字符的0个或多个\n",
    "    \n",
    "* str.lstrip()\n",
    "\n",
    "    - 脱去左侧空格并返回新字符串\n",
    "\n",
    "* \\*：解包，把列表的元素逐个返回"
   ]
  },
  {
   "cell_type": "code",
   "execution_count": 1,
   "metadata": {},
   "outputs": [
    {
     "data": {
      "text/plain": [
       "-1996"
      ]
     },
     "execution_count": 1,
     "metadata": {},
     "output_type": "execute_result"
    }
   ],
   "source": [
    "import re\n",
    "class Solution:\n",
    "    def myAtoi(self, s) -> int:\n",
    "        return max(min(int(*re.findall('[\\+\\-]?\\d+', s)), 2**31 - 1), -2**31)\n",
    "a = Solution()\n",
    "a.myAtoi(\"I'm born in -1996\")"
   ]
  },
  {
   "cell_type": "markdown",
   "metadata": {},
   "source": [
    "## NO.15 3Sum\n",
    "\n",
    "题目：\n",
    "\n",
    "* Given an array nums of n integers, are there elements a, b, c in nums such that a + b + c = 0? Find all unique triplets in the array which gives the sum of zero.\n",
    "\n",
    "* Note:\n",
    "\n",
    "    * The solution set must not contain duplicate triplets.\n",
    "    \n",
    "题解：\n",
    "\n",
    "* nums 先排序，后哈希表优化，这种方法的时间空间复杂度都是$O(n^2)$\n",
    "\n",
    "* 亮点是一次循环构建哈希表并且判断是否满足条件的处理，利用了成对的数的性质\n",
    "\n",
    "* 然而这种方法依旧是时间超出无法完成测试"
   ]
  },
  {
   "cell_type": "code",
   "execution_count": 4,
   "metadata": {},
   "outputs": [
    {
     "data": {
      "text/plain": [
       "[[-1, 0, 1], [-1, -1, 2]]"
      ]
     },
     "execution_count": 4,
     "metadata": {},
     "output_type": "execute_result"
    }
   ],
   "source": [
    "class Solution:\n",
    "    def threeSum(self, nums):\n",
    "        nums = sorted(nums)\n",
    "        l = []\n",
    "        for i,each in enumerate(nums[:-2]):\n",
    "            if each > 0:\n",
    "                break\n",
    "            d = {}\n",
    "            for k, x in enumerate(nums[i+1:]):\n",
    "                if d.get(0-each-x) != None:\n",
    "                    r = sorted([each,x,0-each-x])\n",
    "                    if r not in l:\n",
    "                        l.append(r)\n",
    "                d[x] = k\n",
    "        return l\n",
    "a=Solution()\n",
    "a.threeSum([-1, 0, 1, 2, -1, -4])"
   ]
  },
  {
   "cell_type": "markdown",
   "metadata": {},
   "source": [
    "* 更好的解法是排序加对撞指针 while循环\n",
    "\n",
    "* 这种方式也特别巧妙，利用了已排序的列表的性质，指针位置的数字之和若大于0，尾部指针前移，否则首部指针后移\n",
    "\n",
    "* sorted(reverse=True)    #逆序"
   ]
  },
  {
   "cell_type": "code",
   "execution_count": 5,
   "metadata": {},
   "outputs": [
    {
     "data": {
      "text/plain": [
       "[[-1, -1, 2], [-1, 0, 1]]"
      ]
     },
     "execution_count": 5,
     "metadata": {},
     "output_type": "execute_result"
    }
   ],
   "source": [
    "class Solution:\n",
    "    def threeSum(self, nums):\n",
    "        nums.sort()\n",
    "        n = len(nums)\n",
    "        res = []\n",
    "        #print(nums)\n",
    "        for i in range(n):\n",
    "            if i > 0 and nums[i] == nums[i-1]:   #加速循环，优化步骤\n",
    "                continue\n",
    "            left = i + 1\n",
    "            right = n - 1\n",
    "            while left < right:    #双指针常用while循环！\n",
    "                cur_sum = nums[i] + nums[left] + nums[right]\n",
    "                if cur_sum == 0:\n",
    "                    tmp = [nums[i],nums[left],nums[right]]\n",
    "                    res.append(tmp)\n",
    "                    while left < right and nums[left] == nums[left+1]:    #优化步骤\n",
    "                        left += 1\n",
    "                    while left < right and nums[right] == nums[right-1]:    #优化步骤\n",
    "                        right -= 1\n",
    "                    left += 1\n",
    "                    right -= 1\n",
    "                elif cur_sum > 0:\n",
    "                    right -= 1\n",
    "                else:\n",
    "                    left += 1\n",
    "        return res\n",
    "a=Solution()\n",
    "a.threeSum([-1, 0, 1, 2, -1, -4])"
   ]
  }
 ],
 "metadata": {
  "kernelspec": {
   "display_name": "Python 3",
   "language": "python",
   "name": "python3"
  },
  "language_info": {
   "codemirror_mode": {
    "name": "ipython",
    "version": 3
   },
   "file_extension": ".py",
   "mimetype": "text/x-python",
   "name": "python",
   "nbconvert_exporter": "python",
   "pygments_lexer": "ipython3",
   "version": "3.7.3"
  }
 },
 "nbformat": 4,
 "nbformat_minor": 2
}
