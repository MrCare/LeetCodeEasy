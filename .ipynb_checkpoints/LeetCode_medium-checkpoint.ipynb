{
 "cells": [
  {
   "cell_type": "markdown",
   "metadata": {},
   "source": [
    "# LeetCode Medium"
   ]
  },
  {
   "cell_type": "markdown",
   "metadata": {},
   "source": [
    "- 字符串中的‘ ’并不为 None，判断时要注意，if ‘ ’总会进入条件"
   ]
  },
  {
   "cell_type": "code",
   "execution_count": 8,
   "metadata": {},
   "outputs": [
    {
     "name": "stdout",
     "output_type": "stream",
     "text": [
      "yes\n"
     ]
    }
   ],
   "source": [
    "s = ' '\n",
    "for x in s:\n",
    "    if x:\n",
    "        print('yes')"
   ]
  },
  {
   "cell_type": "markdown",
   "metadata": {},
   "source": [
    "## NO.8 String to Integer (atoi)\n",
    "\n",
    "题目：\n",
    "\n",
    "* Implement atoi which converts a string to an integer.\n",
    "\n",
    "* The function first discards as many whitespace characters as necessary until the first non-whitespace character is found. Then, starting from this character, takes an optional initial plus or minus sign followed by as many numerical digits as possible, and interprets them as a numerical value.\n",
    "\n",
    "* The string can contain additional characters after those that form the integral number, which are ignored and have no effect on the behavior of this function.\n",
    "\n",
    "* If the first sequence of non-whitespace characters in str is not a valid integral number, or if no such sequence exists because either str is empty or it contains only whitespace characters, no conversion is performed.\n",
    "\n",
    "* If no valid conversion could be performed, a zero value is returned.\n",
    "\n",
    "* Note:\n",
    "\n",
    "    * Only the space character ' ' is considered as whitespace character.\n",
    "    \n",
    "    * Assume we are dealing with an environment which could only store integers within the 32-bit signed integer range: [−231,  231 − 1]. If the numerical value is out of the range of representable values, INT_MAX (231 − 1) or INT_MIN (−231) is returned.\n",
    "    \n",
    "题解：\n",
    "\n",
    "* 依照题目，初步思路是双指针搜索，然而非常困难\n",
    "\n",
    "* 更好的方式是正则表达式，又一个盲点（upset）\n",
    "\n",
    "* '[\\+\\-]?\\d+'\n",
    "\n",
    "    - ^：匹配字符串开头\n",
    "    \n",
    "    - [\\+\\-]：代表一个+字符或-字符\n",
    "\n",
    "    - ?：前面一个字符可有可无\n",
    "\n",
    "    - \\d：一个数字\n",
    "\n",
    "    - +：前面一个字符的一个或多个\n",
    "\n",
    "    - \\D：一个非数字字符\n",
    "\n",
    "    - \\*：前面一个字符的0个或多个\n",
    "    \n",
    "* str.lstrip()\n",
    "\n",
    "    - 脱去左侧空格并返回新字符串\n",
    "\n",
    "* \\*：解包，把列表的元素逐个返回"
   ]
  },
  {
   "cell_type": "code",
   "execution_count": 1,
   "metadata": {},
   "outputs": [
    {
     "data": {
      "text/plain": [
       "-1996"
      ]
     },
     "execution_count": 1,
     "metadata": {},
     "output_type": "execute_result"
    }
   ],
   "source": [
    "import re\n",
    "class Solution:\n",
    "    def myAtoi(self, s) -> int:\n",
    "        return max(min(int(*re.findall('[\\+\\-]?\\d+', s)), 2**31 - 1), -2**31)\n",
    "a = Solution()\n",
    "a.myAtoi(\"I'm born in -1996\")"
   ]
  },
  {
   "cell_type": "markdown",
   "metadata": {},
   "source": [
    "## NO.15 3Sum\n",
    "\n",
    "题目：\n",
    "\n",
    "* Given an array nums of n integers, are there elements a, b, c in nums such that a + b + c = 0? Find all unique triplets in the array which gives the sum of zero.\n",
    "\n",
    "* Note:\n",
    "\n",
    "    * The solution set must not contain duplicate triplets.\n",
    "    \n",
    "题解：\n",
    "\n",
    "* nums 先排序，后哈希表优化，这种方法的时间空间复杂度都是$O(n^2)$\n",
    "\n",
    "* 亮点是一次循环构建哈希表并且判断是否满足条件的处理，利用了成对的数的性质\n",
    "\n",
    "* 然而这种方法依旧是时间超出无法完成测试"
   ]
  },
  {
   "cell_type": "code",
   "execution_count": 4,
   "metadata": {},
   "outputs": [
    {
     "data": {
      "text/plain": [
       "[[-1, 0, 1], [-1, -1, 2]]"
      ]
     },
     "execution_count": 4,
     "metadata": {},
     "output_type": "execute_result"
    }
   ],
   "source": [
    "class Solution:\n",
    "    def threeSum(self, nums):\n",
    "        nums = sorted(nums)\n",
    "        l = []\n",
    "        for i,each in enumerate(nums[:-2]):\n",
    "            if each > 0:\n",
    "                break\n",
    "            d = {}\n",
    "            for k, x in enumerate(nums[i+1:]):\n",
    "                if d.get(0-each-x) != None:\n",
    "                    r = sorted([each,x,0-each-x])\n",
    "                    if r not in l:\n",
    "                        l.append(r)\n",
    "                d[x] = k\n",
    "        return l\n",
    "a=Solution()\n",
    "a.threeSum([-1, 0, 1, 2, -1, -4])"
   ]
  },
  {
   "cell_type": "markdown",
   "metadata": {},
   "source": [
    "* 更好的解法是排序加对撞指针 while循环\n",
    "\n",
    "* 这种方式也特别巧妙，利用了已排序的列表的性质，指针位置的数字之和若大于0，尾部指针前移，否则首部指针后移\n",
    "\n",
    "* sorted(reverse=True)    #逆序"
   ]
  },
  {
   "cell_type": "code",
   "execution_count": 1,
   "metadata": {},
   "outputs": [
    {
     "data": {
      "text/plain": [
       "[[-1, -1, 2], [-1, 0, 1]]"
      ]
     },
     "execution_count": 1,
     "metadata": {},
     "output_type": "execute_result"
    }
   ],
   "source": [
    "class Solution:\n",
    "    def threeSum(self, nums):\n",
    "        nums.sort()\n",
    "        n = len(nums)\n",
    "        res = []\n",
    "        #print(nums)\n",
    "        for i in range(n):\n",
    "            if i > 0 and nums[i] == nums[i-1]:   #加速循环，优化步骤\n",
    "                continue\n",
    "            left = i + 1\n",
    "            right = n - 1\n",
    "            while left < right:    #双指针常用while循环！\n",
    "                cur_sum = nums[i] + nums[left] + nums[right]\n",
    "                if cur_sum == 0:\n",
    "                    tmp = [nums[i],nums[left],nums[right]]\n",
    "                    res.append(tmp)\n",
    "                    while left < right and nums[left] == nums[left+1]:    #优化步骤\n",
    "                        left += 1\n",
    "                    while left < right and nums[right] == nums[right-1]:    #优化步骤\n",
    "                        right -= 1\n",
    "                    left += 1\n",
    "                    right -= 1\n",
    "                elif cur_sum > 0:\n",
    "                    right -= 1\n",
    "                else:\n",
    "                    left += 1\n",
    "        return res\n",
    "a=Solution()\n",
    "a.threeSum([-1, 0, 1, 2, -1, -4])"
   ]
  },
  {
   "cell_type": "markdown",
   "metadata": {},
   "source": [
    "## NO.5 Longest Palindromic Substring\n",
    "\n",
    "题目：\n",
    "\n",
    "* Given a string s, find the longest palindromic substring in s. You may assume that the maximum length of s is 1000.\n",
    "\n",
    "题解：\n",
    "\n",
    "* 最简单直观的就是暴力循环枚举判断,两次循环判断，加上回文字符的判断，时间复杂度为$O(n^3)$，由于只用了有限的变量储存数据，空间负责度是$O(1)$"
   ]
  },
  {
   "cell_type": "code",
   "execution_count": 3,
   "metadata": {},
   "outputs": [
    {
     "data": {
      "text/plain": [
       "'bab'"
      ]
     },
     "execution_count": 3,
     "metadata": {},
     "output_type": "execute_result"
    }
   ],
   "source": [
    "class Solution:\n",
    "    def longestPalindrome(self, s: str) -> str:\n",
    "        length = 1\n",
    "        for r in range(1,len(s)):\n",
    "            for l in range(r):\n",
    "                if s[l:r] == s[l:r][::-1] and r - l > length:\n",
    "                    length = r - l\n",
    "                    resault = s[l:r]\n",
    "        return resault\n",
    "a = Solution()\n",
    "a.longestPalindrome(\"babad\")"
   ]
  },
  {
   "cell_type": "markdown",
   "metadata": {},
   "source": [
    "* 一种改进的方法是动态规划，来优化判断回文数的过程，暴力算法中回文数的判断是翻转字符串，然而借助动态规划的思想可以不必每一次判断都翻转字符串，动态规划的状态是每一个子字符串是不是回文字符串，当新的字符串头尾相等时，则新的字符串就是回文字串。\n",
    "\n",
    "* 用一个二维数组表示状态`[[True],[False]...]`\n",
    "\n",
    "* 状态转移方程为 `dp[l, r] = (s[l] == s[r] and (r - l <= 2 or dp[l + 1, r - 1]))`\n",
    "\n",
    "* 判断回文的过程复杂度得以降低，整体时间复杂度变为$O(n^2)$，由于需要储存状态，整体的空间复杂度也变为了$O(n^2)$\n",
    "\n",
    "* 思路：用空间换时间"
   ]
  },
  {
   "cell_type": "code",
   "execution_count": 6,
   "metadata": {},
   "outputs": [
    {
     "name": "stdout",
     "output_type": "stream",
     "text": [
      "[False, False, False, False, False]\n",
      "[False, False, False, False, False]\n",
      "[False, False, False, False, False]\n",
      "[False, False, False, False, False]\n",
      "[False, False, False, False, False]\n",
      "---\n",
      "[False, False, True, False, False]\n",
      "[False, False, False, False, False]\n",
      "[False, False, False, False, False]\n",
      "[False, False, False, False, False]\n",
      "[False, False, False, False, False]\n",
      "---\n",
      "[False, False, True, False, False]\n",
      "[False, False, False, True, False]\n",
      "[False, False, False, False, False]\n",
      "[False, False, False, False, False]\n",
      "[False, False, False, False, False]\n",
      "---\n",
      "[False, False, True, False, False]\n",
      "[False, False, False, True, False]\n",
      "[False, False, False, False, False]\n",
      "[False, False, False, False, False]\n",
      "[False, False, False, False, False]\n",
      "---\n"
     ]
    },
    {
     "data": {
      "text/plain": [
       "'bab'"
      ]
     },
     "execution_count": 6,
     "metadata": {},
     "output_type": "execute_result"
    }
   ],
   "source": [
    "class Solution:\n",
    "    def longestPalindrome(self, s: str) -> str:\n",
    "        size = len(s)\n",
    "        if size <= 1:\n",
    "            return s\n",
    "        # 二维 dp 问题\n",
    "        # 状态：dp[l,r]: s[l:r] 包括 l，r ，表示的字符串是不是回文串\n",
    "        # 设置为 None 是为了方便调试，看清楚代码执行流程\n",
    "        dp = [[False for _ in range(size)] for _ in range(size)]\n",
    "\n",
    "        longest_l = 1\n",
    "        res = s[0]\n",
    "\n",
    "        # 因为只有 1 个字符的情况在最开始做了判断\n",
    "        # 左边界一定要比右边界小，因此右边界从 1 开始\n",
    "        for r in range(1, size):\n",
    "            for l in range(r):\n",
    "                # 状态转移方程：如果头尾字符相等并且中间也是回文\n",
    "                # 在头尾字符相等的前提下，如果收缩以后不构成区间（最多只有 1 个元素），直接返回 True 即可\n",
    "                # 否则要继续看收缩以后的区间的回文性\n",
    "                # 重点理解 or 的短路性质在这里的作用\n",
    "                if s[l] == s[r] and (r - l <= 2 or dp[l + 1][r - 1]):\n",
    "                    dp[l][r] = True\n",
    "                    cur_len = r - l + 1\n",
    "                    if cur_len > longest_l:\n",
    "                        longest_l = cur_len\n",
    "                        res = s[l:r + 1]\n",
    "            # 调试语句\n",
    "            for item in dp:\n",
    "                print(item)\n",
    "            print('---')\n",
    "        return res\n",
    "a = Solution()\n",
    "a.longestPalindrome(\"babad\")"
   ]
  },
  {
   "cell_type": "markdown",
   "metadata": {},
   "source": [
    "## NO.2 Add Two Numbers\n",
    "\n",
    "题目：\n",
    "\n",
    "* You are given two non-empty linked lists representing two non-negative integers. The digits are stored in reverse order and each of their nodes contain a single digit. Add the two numbers and return it as a linked list.\n",
    "\n",
    "* You may assume the two numbers do not contain any leading zero, except the number 0 itself.\n",
    "\n",
    "* Example:\n",
    "    \n",
    "    * Input: (2 -> 4 -> 3) + (5 -> 6 -> 4)\n",
    "\n",
    "    * Output: 7 -> 0 -> 8\n",
    "\n",
    "    * Explanation: 342 + 465 = 807.\n",
    "    \n",
    "题解：\n",
    "\n",
    "* 对应位置的节点相加，然后依次进位"
   ]
  },
  {
   "cell_type": "code",
   "execution_count": 1,
   "metadata": {},
   "outputs": [],
   "source": [
    "# Definition for singly-linked list.\n",
    "# class ListNode:\n",
    "#     def __init__(self, x):\n",
    "#         self.val = x\n",
    "#         self.next = None\n",
    "\n",
    "class Solution:\n",
    "    def addTwoNumbers(self, l1, l2):\n",
    "        target = ListNode(0)   # 目标链表的根节点\n",
    "        p = target\n",
    "        add = 0    # 进位\n",
    "        while l1 and l2:\n",
    "            p.next = ListNode((l1.val+l2.val+add)%10)\n",
    "            add = (l1.val+l2.val+add)//10\n",
    "            p, l1, l2 = p.next, l1.next, l2.next\n",
    "        #以上是两个链表的公共拥有的部分\n",
    "        #下面在添加两个链表中较长的那个的私有部分\n",
    "        l1 = l1 if l1 else l2\n",
    "        while add:\n",
    "            if l1:\n",
    "                p.next = ListNode((l1.val+add)%10)\n",
    "                add = (l1.val+add)//10\n",
    "                p, l1 = p.next, l1.next\n",
    "            else:\n",
    "                p.next = ListNode(add)\n",
    "                p = p.next\n",
    "                break\n",
    "        p.next = l1 \n",
    "        \n",
    "        return target.next"
   ]
  },
  {
   "cell_type": "markdown",
   "metadata": {},
   "source": [
    "## NO.11 Container With Most Water\n",
    "\n",
    "题目：\n",
    "\n",
    "* Given n non-negative integers a1, a2, ..., an , where each represents a point at coordinate (i, ai). n vertical lines are drawn such that the two endpoints of line i is at (i, ai) and (i, 0). Find two lines, which together with x-axis forms a container, such that the container contains the most water.\n",
    "\n",
    "* Note: You may not slant the container and n is at least 2.\n",
    "\n",
    "* The above vertical lines are represented by array [1,8,6,2,5,4,8,3,7]. In this case, the max area of water (blue section) the container can contain is 49.\n",
    "\n",
    "题解：\n",
    "\n",
    "* 暴力双循环,时间复杂度为$O(n^2)$,空间复杂度$O(n)$"
   ]
  },
  {
   "cell_type": "code",
   "execution_count": 2,
   "metadata": {},
   "outputs": [
    {
     "data": {
      "text/plain": [
       "49"
      ]
     },
     "execution_count": 2,
     "metadata": {},
     "output_type": "execute_result"
    }
   ],
   "source": [
    "class Solution:\n",
    "    def maxArea(self, height) -> int:\n",
    "        ret = 0\n",
    "        for r in range(1,len(height)):\n",
    "            for l in range(r):\n",
    "                tmp = (r-l)*min(height[l],height[r])\n",
    "                ret = tmp if tmp > ret else ret\n",
    "        return ret\n",
    "a = Solution()\n",
    "a.maxArea([1,8,6,2,5,4,8,3,7])"
   ]
  },
  {
   "cell_type": "markdown",
   "metadata": {},
   "source": [
    "双指针法 指针移动规则与证明： \n",
    "\n",
    "- 每次选定围成水槽两板高度 h[i],h[j] 中的短板，向中间收窄 1格。\n",
    "\n",
    "- 设每一状态下水槽面积为$ S(i, j),(0 <= i < j < n)$，由于水槽的实际高度由两板中的短板决定，则可得面积公式 $S(i, j) = min(h[i], h[j]) × (j - i)$。在每一个状态下，无论长板或短板收窄 1 格，都会导致水槽 底边宽度 -1：\n",
    "\n",
    "    - 若向内移动短板，水槽的短板 $min(h[i], h[j])$ 可能变大，因此水槽面积 $S(i, j)$ 可能增大。\n",
    "\n",
    "    - 若向内移动长板，水槽的短板 $min(h[i], h[j])$ 不变或变小，下个水槽的面积一定小于当前水槽面积。因此，向内收窄短板可以获取面积最大值。换个角度理解：\n",
    "    \n",
    "        - 若不指定移动规则，所有移动出现的 $S(i, j)$ 的状态数为 $C(n, 2)$，即暴力枚举出所有状态。\n",
    "        - 在状态 $S(i, j)$ 下向内移动短板至 $S(i + 1, j)$（假设 h[i] < h[j] ），则相当于消去了 $S(i, j - 1), S(i, j - 2), ... , S(i, i + 1)$状态集合。而所有消去状态的面积一定 $<= S(i, j)$：\n",
    "        - 短板高度：相比 $S(i, j)$ 相同或更短；\n",
    "        - 底边宽度：相比 $S(i, j)$ 更短。\n",
    "        - 因此所有消去的状态的面积都 $< S(i, j)$。通俗的讲，我们每次向内移动短板，所有的消去状态都不会导致丢失面积最大值 。\n",
    "\n",
    "复杂度分析：\n",
    "\n",
    "* 时间复杂度为$O(n)$，空间复杂度$O(1)$"
   ]
  },
  {
   "cell_type": "code",
   "execution_count": 1,
   "metadata": {},
   "outputs": [
    {
     "data": {
      "text/plain": [
       "49"
      ]
     },
     "execution_count": 1,
     "metadata": {},
     "output_type": "execute_result"
    }
   ],
   "source": [
    "class Solution:\n",
    "    def maxArea(self, height) -> int:\n",
    "        l,r = 0,len(height)-1\n",
    "        ret = 0\n",
    "        while l != r:\n",
    "            tmp = (r - l) * min(height[l], height[r])\n",
    "            ret = tmp if tmp > ret else ret\n",
    "            if height[l]<height[r]:\n",
    "                l += 1\n",
    "            else:\n",
    "                r -= 1\n",
    "        return ret\n",
    "a = Solution()\n",
    "a.maxArea([1,8,6,2,5,4,8,3,7])"
   ]
  },
  {
   "cell_type": "markdown",
   "metadata": {},
   "source": [
    "## NO.16 3Sum Closest\n",
    "\n",
    "题目：\n",
    "\n",
    "* Given an array nums of n integers and an integer target, find three integers in nums such that the sum is closest to target. Return the sum of the three integers. You may assume that each input would have exactly one solution.\n",
    "\n",
    "题解：\n",
    "\n",
    "* 这是承接15题的3数和问题，解法依然是排序加对撞指针，当序列有序之后就有了很多特殊的性质，比如依次循环，初始指针位置的数的加和一定会依次增大。\n",
    "\n",
    "* 指针移动的规则也很有趣，从两端向中心移动，寻找目标，比目标大则右指针左移，其他情况则左指针右移，最后一定能够让指针重合退出循环。这也是由有序数列的特殊性质决定的。\n",
    "\n",
    "* 用一个变量储存符合规定的数值，最后返回该变量即可。"
   ]
  },
  {
   "cell_type": "code",
   "execution_count": 1,
   "metadata": {},
   "outputs": [
    {
     "data": {
      "text/plain": [
       "(2, [-1, 1, 2])"
      ]
     },
     "execution_count": 1,
     "metadata": {},
     "output_type": "execute_result"
    }
   ],
   "source": [
    "class Solution:\n",
    "    def threeSumClosest(self, nums, target: int) -> int:\n",
    "        nums = sorted(nums)\n",
    "        tmp = float(\"inf\")\n",
    "        for i, each in enumerate(nums[:-2]):\n",
    "            l, r = i + 1, len(nums)-1\n",
    "            while l != r:\n",
    "                s = each + nums[l] + nums[r]\n",
    "                if abs(s-target) <= tmp:\n",
    "                    tmp = abs(s - target)\n",
    "                    ret = s\n",
    "                    a, b, c = each, nums[l], nums[r]\n",
    "                if s < target:\n",
    "                    l += 1\n",
    "                else:\n",
    "                    r -= 1\n",
    "        return ret, [a, b, c]\n",
    "a = Solution()\n",
    "a.threeSumClosest([-1,2,1,-4],1)"
   ]
  },
  {
   "cell_type": "markdown",
   "metadata": {},
   "source": [
    "## NO. 33 Search in Rotated Sorted Array\n",
    "\n",
    "题目：\n",
    "\n",
    "- Suppose an array sorted in ascending order is rotated at some pivot unknown to you beforehand.(i.e., [0,1,2,4,5,6,7] might become [4,5,6,7,0,1,2]).\n",
    "\n",
    "- You are given a target value to search. If found in the array return its index, otherwise return -1.You may assume no duplicate exists in the array.\n",
    "\n",
    "- Your algorithm's runtime complexity must be in the order of $O(log n)$.\n",
    "\n",
    "题解：\n",
    "\n",
    "- 首先不考虑题目要求的问题，可以在$O(n)$的复杂度下，一次循环返回结果"
   ]
  },
  {
   "cell_type": "code",
   "execution_count": 3,
   "metadata": {},
   "outputs": [
    {
     "data": {
      "text/plain": [
       "4"
      ]
     },
     "execution_count": 3,
     "metadata": {},
     "output_type": "execute_result"
    }
   ],
   "source": [
    "class Solution:\n",
    "    def search(self, nums, target: int) -> int:\n",
    "        for i, each in enumerate(nums):\n",
    "            if each == target:\n",
    "                return i\n",
    "        return -1\n",
    "a = Solution()\n",
    "a.search([4,5,6,7,0,1,2],0)"
   ]
  },
  {
   "cell_type": "markdown",
   "metadata": {},
   "source": [
    "- 这样的做法没有利用有序列表的性质，利用列表的性质还可以改进该做法\n",
    "\n",
    "- 二分查找法，时间复杂度为$O(log_2n)$，空间复杂度最小可为$O(1)$\n",
    "\n",
    "- [二分查找法编程模版](https://leetcode-cn.com/problems/search-insert-position/solution/te-bie-hao-yong-de-er-fen-cha-fa-fa-mo-ban-python-/) 非常细致，值得详细钻研"
   ]
  },
  {
   "cell_type": "code",
   "execution_count": 6,
   "metadata": {},
   "outputs": [
    {
     "data": {
      "text/plain": [
       "4"
      ]
     },
     "execution_count": 6,
     "metadata": {},
     "output_type": "execute_result"
    }
   ],
   "source": [
    "class Solution:\n",
    "    def search(self, nums, target):\n",
    "        \"\"\"\n",
    "        :type nums: List[int]\n",
    "        :type target: int\n",
    "        :rtype: int\n",
    "        \"\"\"\n",
    "        def find_rotate_index(left, right):\n",
    "            if nums[left] < nums[right]:\n",
    "                return 0\n",
    "            \n",
    "            while left <= right:\n",
    "                pivot = (left + right) // 2\n",
    "                if nums[pivot] > nums[pivot + 1]:\n",
    "                    return pivot + 1\n",
    "                else:\n",
    "                    if nums[pivot] < nums[left]:\n",
    "                        right = pivot - 1\n",
    "                    else:\n",
    "                        left = pivot + 1\n",
    "                \n",
    "        def search(left, right):\n",
    "            \"\"\"\n",
    "            Binary search\n",
    "            \"\"\"\n",
    "            while left <= right:\n",
    "                pivot = (left + right) // 2\n",
    "                if nums[pivot] == target:\n",
    "                    return pivot\n",
    "                else:\n",
    "                    if target < nums[pivot]:\n",
    "                        right = pivot - 1\n",
    "                    else:\n",
    "                        left = pivot + 1\n",
    "            return -1\n",
    "        \n",
    "        n = len(nums)\n",
    "        \n",
    "        if n == 0:\n",
    "            return -1\n",
    "        if n == 1:\n",
    "            return 0 if nums[0] == target else -1 \n",
    "        \n",
    "        rotate_index = find_rotate_index(0, n - 1)\n",
    "        \n",
    "        # if target is the smallest element\n",
    "        if nums[rotate_index] == target:\n",
    "            return rotate_index\n",
    "        # if array is not rotated, search in the entire array\n",
    "        if rotate_index == 0:\n",
    "            return search(0, n - 1)\n",
    "        if target < nums[0]:\n",
    "            # search on the right side\n",
    "            return search(rotate_index, n - 1)\n",
    "        # search on the left side\n",
    "        return search(0, rotate_index)\n",
    "a = Solution()\n",
    "a.search([4,5,6,7,0,1,2],0)"
   ]
  },
  {
   "cell_type": "markdown",
   "metadata": {},
   "source": [
    "- Python 内置的列表查询和返回引用特别快，可以击败 84% 的提交者。"
   ]
  },
  {
   "cell_type": "code",
   "execution_count": 5,
   "metadata": {},
   "outputs": [
    {
     "data": {
      "text/plain": [
       "4"
      ]
     },
     "execution_count": 5,
     "metadata": {},
     "output_type": "execute_result"
    }
   ],
   "source": [
    "class Solution:\n",
    "    def search(self, nums, target: int) -> int:\n",
    "        if target in nums:\n",
    "            return nums.index(target)\n",
    "        else:\n",
    "            return -1\n",
    "a = Solution()\n",
    "a.search([4,5,6,7,0,1,2],0)"
   ]
  }
 ],
 "metadata": {
  "kernelspec": {
   "display_name": "Python 3",
   "language": "python",
   "name": "python3"
  },
  "language_info": {
   "codemirror_mode": {
    "name": "ipython",
    "version": 3
   },
   "file_extension": ".py",
   "mimetype": "text/x-python",
   "name": "python",
   "nbconvert_exporter": "python",
   "pygments_lexer": "ipython3",
   "version": "3.7.3"
  }
 },
 "nbformat": 4,
 "nbformat_minor": 2
}
