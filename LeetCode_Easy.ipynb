{
 "cells": [
  {
   "cell_type": "markdown",
   "metadata": {},
   "source": [
    "# leetCode1 Two Sum\n",
    "内存占用小然而执行时间很慢"
   ]
  },
  {
   "cell_type": "code",
   "execution_count": 6,
   "metadata": {},
   "outputs": [
    {
     "name": "stdout",
     "output_type": "stream",
     "text": [
      "Wall time: 0 ns\n"
     ]
    },
    {
     "data": {
      "text/plain": [
       "[1, 2]"
      ]
     },
     "execution_count": 6,
     "metadata": {},
     "output_type": "execute_result"
    }
   ],
   "source": [
    "class Solution:\n",
    "    def twoSum(self, nums, target):\n",
    "        for i,k in enumerate(nums[:-1]):\n",
    "            for j,w in enumerate(nums[i+1:]):\n",
    "                if k + w == target:\n",
    "                    return [i,i+1+j]\n",
    "                else:\n",
    "                    pass\n",
    "a = Solution()\n",
    "%time a.twoSum([3,2,4],6)"
   ]
  },
  {
   "cell_type": "markdown",
   "metadata": {},
   "source": [
    "# Reverse Integer\n",
    "列表反向取数的时候[3:0:-1]相当于从后往前不包含0，包含3，也可以两步切片，会快一点。"
   ]
  },
  {
   "cell_type": "code",
   "execution_count": 27,
   "metadata": {},
   "outputs": [
    {
     "name": "stdout",
     "output_type": "stream",
     "text": [
      "321\n",
      "Wall time: 0 ns\n"
     ]
    },
    {
     "data": {
      "text/plain": [
       "-321"
      ]
     },
     "execution_count": 27,
     "metadata": {},
     "output_type": "execute_result"
    }
   ],
   "source": [
    "class Solution:\n",
    "    def reverse(self, x: int) -> int:\n",
    "        tem = str(x)\n",
    "        if tem[0] != '-':\n",
    "            tem_f = tem[::-1]\n",
    "            return (int(tem_f) if int(tem_f) < (2**31-1) else 0)\n",
    "        else:\n",
    "            tem_f = tem[:0:-1]\n",
    "            print(tem_f)\n",
    "            return (-int(tem_f) if int(tem_f) < (2**31+1) else 0)\n",
    "a = Solution()\n",
    "%time a.reverse(-123)"
   ]
  },
  {
   "cell_type": "code",
   "execution_count": null,
   "metadata": {},
   "outputs": [],
   "source": []
  }
 ],
 "metadata": {
  "kernelspec": {
   "display_name": "Python 3",
   "language": "python",
   "name": "python3"
  },
  "language_info": {
   "codemirror_mode": {
    "name": "ipython",
    "version": 3
   },
   "file_extension": ".py",
   "mimetype": "text/x-python",
   "name": "python",
   "nbconvert_exporter": "python",
   "pygments_lexer": "ipython3",
   "version": "3.7.3"
  }
 },
 "nbformat": 4,
 "nbformat_minor": 2
}
