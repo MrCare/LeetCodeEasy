{
 "cells": [
  {
   "cell_type": "markdown",
   "metadata": {},
   "source": [
    "# LeetCode\n",
    "# NO.1 Two Sum\n",
    "内存占用小然而执行时间很慢"
   ]
  },
  {
   "cell_type": "code",
   "execution_count": 6,
   "metadata": {},
   "outputs": [
    {
     "name": "stdout",
     "output_type": "stream",
     "text": [
      "Wall time: 0 ns\n"
     ]
    },
    {
     "data": {
      "text/plain": [
       "[1, 2]"
      ]
     },
     "execution_count": 6,
     "metadata": {},
     "output_type": "execute_result"
    }
   ],
   "source": [
    "class Solution:\n",
    "    def twoSum(self, nums, target):\n",
    "        for i,k in enumerate(nums[:-1]):\n",
    "            for j,w in enumerate(nums[i+1:]):\n",
    "                if k + w == target:\n",
    "                    return [i,i+1+j]\n",
    "                else:\n",
    "                    pass\n",
    "a = Solution()\n",
    "%time a.twoSum([3,2,4],6)"
   ]
  },
  {
   "cell_type": "markdown",
   "metadata": {},
   "source": [
    "# NO.7 Reverse Integer\n",
    "列表反向取数的时候[3:0:-1]相当于从后往前不包含0，包含3，也可以两步切片，会快一点。"
   ]
  },
  {
   "cell_type": "code",
   "execution_count": 27,
   "metadata": {},
   "outputs": [
    {
     "name": "stdout",
     "output_type": "stream",
     "text": [
      "321\n",
      "Wall time: 0 ns\n"
     ]
    },
    {
     "data": {
      "text/plain": [
       "-321"
      ]
     },
     "execution_count": 27,
     "metadata": {},
     "output_type": "execute_result"
    }
   ],
   "source": [
    "class Solution:\n",
    "    def reverse(self, x: int) -> int:\n",
    "        tem = str(x)\n",
    "        if tem[0] != '-':\n",
    "            tem_f = tem[::-1]\n",
    "            return (int(tem_f) if int(tem_f) < (2**31-1) else 0)\n",
    "        else:\n",
    "            tem_f = tem[:0:-1]\n",
    "            print(tem_f)\n",
    "            return (-int(tem_f) if int(tem_f) < (2**31+1) else 0)\n",
    "a = Solution()\n",
    "%time a.reverse(-123)"
   ]
  },
  {
   "cell_type": "markdown",
   "metadata": {},
   "source": [
    "# NO.9 Palindrome Number"
   ]
  },
  {
   "cell_type": "code",
   "execution_count": 3,
   "metadata": {},
   "outputs": [
    {
     "name": "stdout",
     "output_type": "stream",
     "text": [
      "Wall time: 0 ns\n"
     ]
    },
    {
     "data": {
      "text/plain": [
       "False"
      ]
     },
     "execution_count": 3,
     "metadata": {},
     "output_type": "execute_result"
    }
   ],
   "source": [
    "class Solution:\n",
    "    def isPalindrome(self, x: int) -> bool:\n",
    "        x = str(x)\n",
    "        y = x[::-1]\n",
    "        if x ==y:\n",
    "            return True\n",
    "        else:\n",
    "            return False\n",
    "a = Solution()\n",
    "%time a.isPalindrome(-121)"
   ]
  },
  {
   "cell_type": "markdown",
   "metadata": {},
   "source": [
    "# NO.13 Rome to Integer\n",
    "罗马数字的计算规则：\n",
    "* 总体来说是将每一位出现的数字用加或减的方式组合起来，如果某一个数字比它后一个数字大或者与后一个数字相等，那么最终的结果就应当加上它\n",
    "* 否则就减去它。\n",
    "* 值得注意的是，因为最后一个数字没有后面的数字，所以最后一个数字总是需要加上的。"
   ]
  },
  {
   "cell_type": "code",
   "execution_count": 7,
   "metadata": {},
   "outputs": [
    {
     "name": "stdout",
     "output_type": "stream",
     "text": [
      "Wall time: 0 ns\n"
     ]
    },
    {
     "data": {
      "text/plain": [
       "1994"
      ]
     },
     "execution_count": 7,
     "metadata": {},
     "output_type": "execute_result"
    }
   ],
   "source": [
    "class Solution:\n",
    "    def romanToInt(self, s: str) -> int:\n",
    "        s_0 = \"IVXLCDM\"\n",
    "        s_1 = [1,5,10,50,100,500,1000]\n",
    "        s_d = dict(zip(s_0,s_1))\n",
    "        sum = 0\n",
    "        for i in range(len(s)-1):\n",
    "            if s_d[s[i]] >= s_d[s[i+1]]:\n",
    "                sum += s_d[s[i]]\n",
    "            else:\n",
    "                sum -= s_d[s[i]]\n",
    "        sum += s_d[s[-1]]\n",
    "        return sum\n",
    "a = Solution()\n",
    "%time a.romanToInt('MCMXCIV')  "
   ]
  },
  {
   "cell_type": "markdown",
   "metadata": {},
   "source": [
    "# NO.14 Longest Common Prefix\n",
    "非常巧妙的思路，是利用zip将所有可迭代对象做一个类似于转置操作的重组，利用到zip()函数如下几点性质：\n",
    "* zip(可迭代对象) 返回的列表长度由其中最短的输入对象决定\n",
    "* zip()返回的是一个由元组构成的列表\n",
    "* \\*list 相当于将list内的元素解压出来，在此例中list的元素恰好是str也是可迭代对象\n",
    "* set()集合化函数，会自动将重复的元素合并为集合的“键”\n",
    "* 返回zip object 需手动list()"
   ]
  },
  {
   "cell_type": "code",
   "execution_count": 30,
   "metadata": {},
   "outputs": [
    {
     "name": "stdout",
     "output_type": "stream",
     "text": [
      "Wall time: 0 ns\n",
      "[('f', 'f', 'f'), ('l', 'l', 'l'), ('o', 'o', 'a'), ('w', 'a', 'm'), ('e', 't', 'e')]\n"
     ]
    }
   ],
   "source": [
    "class Solution:\n",
    "    def longestCommonPrefix(self, strs) -> str:\n",
    "        r = ''\n",
    "        for each in zip(*strs):\n",
    "            if len(set(each)) == 1:\n",
    "                r += each[0]\n",
    "            else:\n",
    "                break\n",
    "        return r\n",
    "a = Solution()\n",
    "strs = [\"flower\",\"float\",\"flame\"]\n",
    "%time a.longestCommonPrefix(strs)\n",
    "print(list(zip(*strs)))"
   ]
  },
  {
   "cell_type": "markdown",
   "metadata": {},
   "source": [
    "# NO.20 Valid Parentheses\n",
    "这里遇到了栈$stack$的应用,简单来说就是用list.append()和list.pop()完成数据后进后出的操作\n",
    "* list.pop()会在list中去掉最后一个值，并返回此值\n",
    "* 这里要考虑三种输入情况：\n",
    "    1. 空值  \n",
    "    2. 正确的输入  \n",
    "    3. 没有左括号的错误输入  \n",
    "    4. 有左括号的错误输入  \n",
    "* 注意 [] 不是 None"
   ]
  },
  {
   "cell_type": "code",
   "execution_count": 109,
   "metadata": {},
   "outputs": [
    {
     "data": {
      "text/plain": [
       "False"
      ]
     },
     "execution_count": 109,
     "metadata": {},
     "output_type": "execute_result"
    }
   ],
   "source": [
    "class Solution:\n",
    "    def isValid(self, s: str) -> bool:\n",
    "        if len(s) % 2 == 1:\n",
    "            return False\n",
    "        d = {'{':'}','[':']','(':')'}\n",
    "        l = []\n",
    "        for each in s:\n",
    "            if each in d:\n",
    "                l.append(each)\n",
    "            else:\n",
    "                if not l or d[l.pop()] != each:\n",
    "                    return False\n",
    "        return l==[]\n",
    "a = Solution()\n",
    "a.isValid(')[{}]')"
   ]
  },
  {
   "cell_type": "markdown",
   "metadata": {},
   "source": [
    "**在python中如果有空列表循环的情况发生，相当于pass，程序会越过这个循环继续执行：如下，没有 out**"
   ]
  },
  {
   "cell_type": "code",
   "execution_count": 110,
   "metadata": {},
   "outputs": [],
   "source": [
    "l = []\n",
    "for x in l:\n",
    "    print()"
   ]
  },
  {
   "cell_type": "markdown",
   "metadata": {},
   "source": [
    "# NO.21 Merge Two Sorted Lists\n",
    "**多行注释：ctrl+/**  \n",
    "这道题粘贴了官方题解，不太了解Python的链表结构，缺少了这一环，我猜测如果以1->2->4为例应当是这样的一个方式:  \n",
    "* l1 = ListNode(1,ListNode(2,ListNode(4,None).val).val)  \n",
    "\n",
    "但是不清楚内部定义ListNode的代码到底是怎么写的，这题先放这里，钻研明白后再补全"
   ]
  },
  {
   "cell_type": "code",
   "execution_count": 119,
   "metadata": {},
   "outputs": [],
   "source": [
    "# Definition for singly-linked list.\n",
    "# class ListNode:\n",
    "#     def __init__(self, x):\n",
    "#         self.val = x\n",
    "#         self.next = None\n",
    "\n",
    "class Solution:\n",
    "    def mergeTwoLists(self, l1, l2):\n",
    "        # maintain an unchanging reference to node ahead of the return node.\n",
    "        prehead = ListNode(-1)\n",
    "        prev = prehead\n",
    "        while l1 and l2:\n",
    "            if l1.val <= l2.val:\n",
    "                prev.next = l1\n",
    "                l1 = l1.next\n",
    "            else:\n",
    "                prev.next = l2\n",
    "                l2 = l2.next            \n",
    "            prev = prev.next\n",
    "\n",
    "        # exactly one of l1 and l2 can be non-null at this point, so connect\n",
    "        # the non-null list to the end of the merged list.\n",
    "        prev.next = l1 if l1 is not None else l2\n",
    "\n",
    "        return prehead.next\n",
    "# a = Solution()\n",
    "# a.mergeTwoLists([1,2,4],[2,3,4])"
   ]
  },
  {
   "cell_type": "markdown",
   "metadata": {},
   "source": [
    "# NO.26 Remove  Duplicates from Sorted Arry\n",
    "删除列表元素的三种方式：     \n",
    "    1. list.remove(元素)  \n",
    "    2. list.pop(索引)\n",
    "    3. del list[索引]  \n",
    "如果采用遍历列表删除的思路需要注意，当删除元素之后，列表后位元素会前移，而循环次数则不会变，最后造成下标越界的错误  \n",
    "正确的遍历列表并删除元素的几种方式：  \n",
    "    1. filter()函数 过滤（会占用额外内存）  \n",
    "    2. 逆序遍历 * 推荐  \n",
    "    3. set()是去重复最快的方式，但不适用于其他条件    \n",
    "虽然下面这段代码很酷，然而还是理解错了题意，题目要求修改原序列并返回一个长度值，而不是返回新序列  "
   ]
  },
  {
   "cell_type": "code",
   "execution_count": 127,
   "metadata": {},
   "outputs": [
    {
     "name": "stdout",
     "output_type": "stream",
     "text": [
      "Wall time: 0 ns\n"
     ]
    },
    {
     "data": {
      "text/plain": [
       "[1, 2, 3, 4, 5]"
      ]
     },
     "execution_count": 127,
     "metadata": {},
     "output_type": "execute_result"
    }
   ],
   "source": [
    "class Solution:\n",
    "    def removeDuplicates(self, nums) -> int:\n",
    "        for i in range(len(nums)-1,0,-1):\n",
    "            if nums[i] == nums[i - 1]:\n",
    "                nums.pop(i)\n",
    "        return nums\n",
    "a = Solution()\n",
    "%time a.removeDuplicates([1,1,2,3,4,4,5])"
   ]
  },
  {
   "cell_type": "markdown",
   "metadata": {},
   "source": [
    "正确的题解是这样的："
   ]
  },
  {
   "cell_type": "code",
   "execution_count": 139,
   "metadata": {},
   "outputs": [
    {
     "name": "stdout",
     "output_type": "stream",
     "text": [
      "Wall time: 0 ns\n"
     ]
    },
    {
     "data": {
      "text/plain": [
       "2"
      ]
     },
     "execution_count": 139,
     "metadata": {},
     "output_type": "execute_result"
    }
   ],
   "source": [
    "class Solution:\n",
    "    def removeDuplicates(self, nums) -> int:\n",
    "        if not nums: # 如果列表为空\n",
    "            return 0\n",
    "        t = 1\n",
    "        for i,x in enumerate(nums[:-1]):\n",
    "            if x != nums[i + 1]:\n",
    "                nums[t] = nums[i + 1]\n",
    "                t += 1 \n",
    "        return t\n",
    "a = Solution()\n",
    "%time a.removeDuplicates([1,1,2])"
   ]
  },
  {
   "cell_type": "markdown",
   "metadata": {},
   "source": [
    "# NO.27 Remove Element\n",
    "这个与26很相似，一开始也采用了26的思路，但是用list.remove方法会更好\n",
    "    * list.remove(x) :在list中去除一个x 这是不占用另外空间的做法"
   ]
  },
  {
   "cell_type": "code",
   "execution_count": 160,
   "metadata": {},
   "outputs": [
    {
     "name": "stdout",
     "output_type": "stream",
     "text": [
      "[]\n",
      "Wall time: 0 ns\n"
     ]
    },
    {
     "data": {
      "text/plain": [
       "0"
      ]
     },
     "execution_count": 160,
     "metadata": {},
     "output_type": "execute_result"
    }
   ],
   "source": [
    "class Solution:\n",
    "    def removeElement(self, nums, val: int) -> int:\n",
    "        l = len(nums)\n",
    "        for i in range(l-1,-1,-1):\n",
    "            if nums[i] == val:\n",
    "                nums.remove(val)\n",
    "        print(nums)\n",
    "        return len(nums)\n",
    "a = Solution()\n",
    "%time a.removeElement([1],1)"
   ]
  },
  {
   "cell_type": "markdown",
   "metadata": {},
   "source": [
    "# NO.28 Implement strStr()  \n",
    "    * list[0:0] 为 []  \n",
    "strStr(l1,l2)是 C 语言中的函数，在l1中查找l2返回值有三种情况：  \n",
    "    1. l2在l1中存在，返回l2出现的位置\n",
    "    2. l2在l1中不存在，返回-1\n",
    "    3. l2为空\"\",则返回 0，据说是比较常见的面试题  \n",
    "python 的内置函数为:\n",
    "    * str.find(str2,begin,end = len(str))用begin与end可以定义查找范围"
   ]
  },
  {
   "cell_type": "code",
   "execution_count": 162,
   "metadata": {},
   "outputs": [
    {
     "name": "stdout",
     "output_type": "stream",
     "text": [
      "Wall time: 0 ns\n"
     ]
    },
    {
     "data": {
      "text/plain": [
       "2"
      ]
     },
     "execution_count": 162,
     "metadata": {},
     "output_type": "execute_result"
    }
   ],
   "source": [
    "class Solution:\n",
    "    def strStr(self, haystack: str, needle: str) -> int:\n",
    "        l1 = len(haystack)\n",
    "        l2 = len(needle)\n",
    "        t = 0\n",
    "        for i in range(l1 - l2 + 1):\n",
    "            if haystack[i:i + l2] == needle:\n",
    "                t += 1\n",
    "                return i\n",
    "        if t == 0:\n",
    "            return -1\n",
    "a = Solution()\n",
    "%time a.strStr(\"hello\",\"ll\")"
   ]
  },
  {
   "cell_type": "code",
   "execution_count": 165,
   "metadata": {},
   "outputs": [
    {
     "data": {
      "text/plain": [
       "True"
      ]
     },
     "execution_count": 165,
     "metadata": {},
     "output_type": "execute_result"
    }
   ],
   "source": []
  },
  {
   "cell_type": "code",
   "execution_count": null,
   "metadata": {},
   "outputs": [],
   "source": []
  }
 ],
 "metadata": {
  "kernelspec": {
   "display_name": "Python 3",
   "language": "python",
   "name": "python3"
  },
  "language_info": {
   "codemirror_mode": {
    "name": "ipython",
    "version": 3
   },
   "file_extension": ".py",
   "mimetype": "text/x-python",
   "name": "python",
   "nbconvert_exporter": "python",
   "pygments_lexer": "ipython3",
   "version": "3.7.3"
  }
 },
 "nbformat": 4,
 "nbformat_minor": 2
}
